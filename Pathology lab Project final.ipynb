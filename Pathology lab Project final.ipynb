{
 "cells": [
  {
   "cell_type": "code",
   "execution_count": 1,
   "id": "68cba5c2",
   "metadata": {},
   "outputs": [],
   "source": [
    "import warnings\n",
    "warnings.filterwarnings('ignore')"
   ]
  },
  {
   "cell_type": "code",
   "execution_count": 2,
   "id": "7a8c1d43",
   "metadata": {},
   "outputs": [],
   "source": [
    "import numpy as np\n",
    "import pandas as pd\n",
    "import matplotlib.pyplot as plt\n",
    "import seaborn as sns"
   ]
  },
  {
   "cell_type": "code",
   "execution_count": 3,
   "id": "86c66eac",
   "metadata": {},
   "outputs": [],
   "source": [
    "df = pd.read_excel('sampla_data_08_05_2022(final).xlsx')"
   ]
  },
  {
   "cell_type": "code",
   "execution_count": 4,
   "id": "7221e003",
   "metadata": {},
   "outputs": [
    {
     "data": {
      "text/html": [
       "<div>\n",
       "<style scoped>\n",
       "    .dataframe tbody tr th:only-of-type {\n",
       "        vertical-align: middle;\n",
       "    }\n",
       "\n",
       "    .dataframe tbody tr th {\n",
       "        vertical-align: top;\n",
       "    }\n",
       "\n",
       "    .dataframe thead th {\n",
       "        text-align: right;\n",
       "    }\n",
       "</style>\n",
       "<table border=\"1\" class=\"dataframe\">\n",
       "  <thead>\n",
       "    <tr style=\"text-align: right;\">\n",
       "      <th></th>\n",
       "      <th>Patient_ID</th>\n",
       "      <th>Patient_Age</th>\n",
       "      <th>Patient_Gender</th>\n",
       "      <th>Test_Name</th>\n",
       "      <th>Sample</th>\n",
       "      <th>Way_Of_Storage_Of_Sample</th>\n",
       "      <th>Test_Booking_Date</th>\n",
       "      <th>Test_Booking_Time_HH_MM</th>\n",
       "      <th>Sample_Collection_Date</th>\n",
       "      <th>Scheduled_Sample_Collection_Time_HH_MM</th>\n",
       "      <th>...</th>\n",
       "      <th>Cut-off time_HH_MM</th>\n",
       "      <th>Agent_ID</th>\n",
       "      <th>Traffic_Conditions</th>\n",
       "      <th>Agent_Location_KM</th>\n",
       "      <th>Time_Taken_To_Reach_Patient_MM</th>\n",
       "      <th>Time_For_Sample_Collection_MM</th>\n",
       "      <th>Lab_Location_KM</th>\n",
       "      <th>Time_Taken_To_Reach_Lab_MM</th>\n",
       "      <th>Mode_Of_Transport</th>\n",
       "      <th>Reached_On_Time</th>\n",
       "    </tr>\n",
       "  </thead>\n",
       "  <tbody>\n",
       "    <tr>\n",
       "      <th>0</th>\n",
       "      <td>1</td>\n",
       "      <td>34</td>\n",
       "      <td>Male</td>\n",
       "      <td>Acute kidney profile</td>\n",
       "      <td>Blood</td>\n",
       "      <td>Advanced</td>\n",
       "      <td>2022-02-15</td>\n",
       "      <td>12.40</td>\n",
       "      <td>2022-02-16</td>\n",
       "      <td>13.00</td>\n",
       "      <td>...</td>\n",
       "      <td>17.00</td>\n",
       "      <td>5</td>\n",
       "      <td>Low Traffic</td>\n",
       "      <td>7.0</td>\n",
       "      <td>14</td>\n",
       "      <td>10</td>\n",
       "      <td>13.0</td>\n",
       "      <td>26</td>\n",
       "      <td>BIKE</td>\n",
       "      <td>Y</td>\n",
       "    </tr>\n",
       "    <tr>\n",
       "      <th>1</th>\n",
       "      <td>3</td>\n",
       "      <td>25</td>\n",
       "      <td>Male</td>\n",
       "      <td>HbA1c</td>\n",
       "      <td>Blood</td>\n",
       "      <td>Normal</td>\n",
       "      <td>2022-02-17</td>\n",
       "      <td>11.12</td>\n",
       "      <td>2022-02-17</td>\n",
       "      <td>14.13</td>\n",
       "      <td>...</td>\n",
       "      <td>17.13</td>\n",
       "      <td>3</td>\n",
       "      <td>Low Traffic</td>\n",
       "      <td>12.0</td>\n",
       "      <td>24</td>\n",
       "      <td>10</td>\n",
       "      <td>6.0</td>\n",
       "      <td>12</td>\n",
       "      <td>BIKE</td>\n",
       "      <td>Y</td>\n",
       "    </tr>\n",
       "    <tr>\n",
       "      <th>2</th>\n",
       "      <td>4</td>\n",
       "      <td>29</td>\n",
       "      <td>Female</td>\n",
       "      <td>Vitamin D-25Hydroxy</td>\n",
       "      <td>Blood</td>\n",
       "      <td>Normal</td>\n",
       "      <td>2022-02-17</td>\n",
       "      <td>12.24</td>\n",
       "      <td>2022-02-17</td>\n",
       "      <td>16.10</td>\n",
       "      <td>...</td>\n",
       "      <td>19.10</td>\n",
       "      <td>4</td>\n",
       "      <td>Medium Traffic</td>\n",
       "      <td>2.0</td>\n",
       "      <td>6</td>\n",
       "      <td>3</td>\n",
       "      <td>3.0</td>\n",
       "      <td>9</td>\n",
       "      <td>BIKE</td>\n",
       "      <td>Y</td>\n",
       "    </tr>\n",
       "    <tr>\n",
       "      <th>3</th>\n",
       "      <td>5</td>\n",
       "      <td>28</td>\n",
       "      <td>Male</td>\n",
       "      <td>TSH</td>\n",
       "      <td>Blood</td>\n",
       "      <td>Normal</td>\n",
       "      <td>2022-02-17</td>\n",
       "      <td>13.38</td>\n",
       "      <td>2022-02-18</td>\n",
       "      <td>14.00</td>\n",
       "      <td>...</td>\n",
       "      <td>17.00</td>\n",
       "      <td>5</td>\n",
       "      <td>Low Traffic</td>\n",
       "      <td>5.0</td>\n",
       "      <td>10</td>\n",
       "      <td>10</td>\n",
       "      <td>5.0</td>\n",
       "      <td>10</td>\n",
       "      <td>BIKE</td>\n",
       "      <td>Y</td>\n",
       "    </tr>\n",
       "    <tr>\n",
       "      <th>4</th>\n",
       "      <td>6</td>\n",
       "      <td>32</td>\n",
       "      <td>Male</td>\n",
       "      <td>Lipid Profile</td>\n",
       "      <td>Blood</td>\n",
       "      <td>Normal</td>\n",
       "      <td>2022-02-17</td>\n",
       "      <td>16.10</td>\n",
       "      <td>2022-02-18</td>\n",
       "      <td>10.15</td>\n",
       "      <td>...</td>\n",
       "      <td>13.15</td>\n",
       "      <td>4</td>\n",
       "      <td>High Traffic</td>\n",
       "      <td>12.0</td>\n",
       "      <td>72</td>\n",
       "      <td>3</td>\n",
       "      <td>9.0</td>\n",
       "      <td>54</td>\n",
       "      <td>BIKE</td>\n",
       "      <td>Y</td>\n",
       "    </tr>\n",
       "  </tbody>\n",
       "</table>\n",
       "<p>5 rows × 21 columns</p>\n",
       "</div>"
      ],
      "text/plain": [
       "   Patient_ID  Patient_Age Patient_Gender             Test_Name Sample  \\\n",
       "0           1           34           Male  Acute kidney profile  Blood   \n",
       "1           3           25           Male                 HbA1c  Blood   \n",
       "2           4           29         Female   Vitamin D-25Hydroxy  Blood   \n",
       "3           5           28           Male                   TSH  Blood   \n",
       "4           6           32           Male         Lipid Profile  Blood   \n",
       "\n",
       "  Way_Of_Storage_Of_Sample Test_Booking_Date  Test_Booking_Time_HH_MM  \\\n",
       "0                 Advanced        2022-02-15                    12.40   \n",
       "1                   Normal        2022-02-17                    11.12   \n",
       "2                   Normal        2022-02-17                    12.24   \n",
       "3                   Normal        2022-02-17                    13.38   \n",
       "4                   Normal        2022-02-17                    16.10   \n",
       "\n",
       "  Sample_Collection_Date  Scheduled_Sample_Collection_Time_HH_MM  ...  \\\n",
       "0             2022-02-16                                   13.00  ...   \n",
       "1             2022-02-17                                   14.13  ...   \n",
       "2             2022-02-17                                   16.10  ...   \n",
       "3             2022-02-18                                   14.00  ...   \n",
       "4             2022-02-18                                   10.15  ...   \n",
       "\n",
       "  Cut-off time_HH_MM  Agent_ID  Traffic_Conditions Agent_Location_KM  \\\n",
       "0              17.00         5         Low Traffic               7.0   \n",
       "1              17.13         3         Low Traffic              12.0   \n",
       "2              19.10         4      Medium Traffic               2.0   \n",
       "3              17.00         5         Low Traffic               5.0   \n",
       "4              13.15         4        High Traffic              12.0   \n",
       "\n",
       "   Time_Taken_To_Reach_Patient_MM  Time_For_Sample_Collection_MM  \\\n",
       "0                              14                             10   \n",
       "1                              24                             10   \n",
       "2                               6                              3   \n",
       "3                              10                             10   \n",
       "4                              72                              3   \n",
       "\n",
       "   Lab_Location_KM  Time_Taken_To_Reach_Lab_MM  Mode_Of_Transport  \\\n",
       "0             13.0                          26               BIKE   \n",
       "1              6.0                          12               BIKE   \n",
       "2              3.0                           9               BIKE   \n",
       "3              5.0                          10               BIKE   \n",
       "4              9.0                          54               BIKE   \n",
       "\n",
       "  Reached_On_Time  \n",
       "0               Y  \n",
       "1               Y  \n",
       "2               Y  \n",
       "3               Y  \n",
       "4               Y  \n",
       "\n",
       "[5 rows x 21 columns]"
      ]
     },
     "execution_count": 4,
     "metadata": {},
     "output_type": "execute_result"
    }
   ],
   "source": [
    "df.head()"
   ]
  },
  {
   "cell_type": "code",
   "execution_count": 5,
   "id": "6a156089",
   "metadata": {},
   "outputs": [
    {
     "name": "stdout",
     "output_type": "stream",
     "text": [
      "<class 'pandas.core.frame.DataFrame'>\n",
      "RangeIndex: 1019 entries, 0 to 1018\n",
      "Data columns (total 21 columns):\n",
      " #   Column                                  Non-Null Count  Dtype         \n",
      "---  ------                                  --------------  -----         \n",
      " 0   Patient_ID                              1019 non-null   int64         \n",
      " 1   Patient_Age                             1019 non-null   int64         \n",
      " 2   Patient_Gender                          1019 non-null   object        \n",
      " 3   Test_Name                               1019 non-null   object        \n",
      " 4   Sample                                  1019 non-null   object        \n",
      " 5   Way_Of_Storage_Of_Sample                1019 non-null   object        \n",
      " 6   Test_Booking_Date                       1019 non-null   datetime64[ns]\n",
      " 7   Test_Booking_Time_HH_MM                 1019 non-null   float64       \n",
      " 8   Sample_Collection_Date                  1019 non-null   datetime64[ns]\n",
      " 9   Scheduled_Sample_Collection_Time_HH_MM  1019 non-null   float64       \n",
      " 10  Cut-off Schedule                        1019 non-null   object        \n",
      " 11  Cut-off time_HH_MM                      1019 non-null   float64       \n",
      " 12  Agent_ID                                1019 non-null   int64         \n",
      " 13  Traffic_Conditions                      1019 non-null   object        \n",
      " 14  Agent_Location_KM                       1019 non-null   float64       \n",
      " 15  Time_Taken_To_Reach_Patient_MM          1019 non-null   int64         \n",
      " 16  Time_For_Sample_Collection_MM           1019 non-null   int64         \n",
      " 17  Lab_Location_KM                         1019 non-null   float64       \n",
      " 18  Time_Taken_To_Reach_Lab_MM              1019 non-null   int64         \n",
      " 19  Mode_Of_Transport                       1019 non-null   object        \n",
      " 20  Reached_On_Time                         1019 non-null   object        \n",
      "dtypes: datetime64[ns](2), float64(5), int64(6), object(8)\n",
      "memory usage: 167.3+ KB\n"
     ]
    }
   ],
   "source": [
    "df.info()"
   ]
  },
  {
   "cell_type": "markdown",
   "id": "a3a7766f",
   "metadata": {},
   "source": [
    "### ***Data Preprocessing"
   ]
  },
  {
   "cell_type": "code",
   "execution_count": 6,
   "id": "75c128ae",
   "metadata": {},
   "outputs": [
    {
     "data": {
      "text/plain": [
       "Patient_ID                                False\n",
       "Patient_Age                               False\n",
       "Patient_Gender                            False\n",
       "Test_Name                                 False\n",
       "Sample                                    False\n",
       "Way_Of_Storage_Of_Sample                  False\n",
       "Test_Booking_Date                         False\n",
       "Test_Booking_Time_HH_MM                   False\n",
       "Sample_Collection_Date                    False\n",
       "Scheduled_Sample_Collection_Time_HH_MM    False\n",
       "Cut-off Schedule                          False\n",
       "Cut-off time_HH_MM                        False\n",
       "Agent_ID                                  False\n",
       "Traffic_Conditions                        False\n",
       "Agent_Location_KM                         False\n",
       "Time_Taken_To_Reach_Patient_MM            False\n",
       "Time_For_Sample_Collection_MM             False\n",
       "Lab_Location_KM                           False\n",
       "Time_Taken_To_Reach_Lab_MM                False\n",
       "Mode_Of_Transport                         False\n",
       "Reached_On_Time                           False\n",
       "dtype: bool"
      ]
     },
     "execution_count": 6,
     "metadata": {},
     "output_type": "execute_result"
    }
   ],
   "source": [
    "df.isna().any()"
   ]
  },
  {
   "cell_type": "code",
   "execution_count": 7,
   "id": "f1f08b40",
   "metadata": {},
   "outputs": [
    {
     "data": {
      "text/plain": [
       "False"
      ]
     },
     "execution_count": 7,
     "metadata": {},
     "output_type": "execute_result"
    }
   ],
   "source": [
    "df.duplicated().any()"
   ]
  },
  {
   "cell_type": "markdown",
   "id": "4023a2e4",
   "metadata": {},
   "source": [
    "##### **Unique Values"
   ]
  },
  {
   "cell_type": "code",
   "execution_count": 8,
   "id": "61b31b8a",
   "metadata": {},
   "outputs": [
    {
     "name": "stdout",
     "output_type": "stream",
     "text": [
      "Patient_ID  :  1019 Unique Values\n",
      "Patient_Age  :  75 Unique Values\n",
      "Patient_Gender  :  2 Unique Values\n",
      "Test_Name  :  10 Unique Values\n",
      "Sample  :  4 Unique Values\n",
      "Way_Of_Storage_Of_Sample  :  2 Unique Values\n",
      "Test_Booking_Date  :  176 Unique Values\n",
      "Test_Booking_Time_HH_MM  :  176 Unique Values\n",
      "Sample_Collection_Date  :  166 Unique Values\n",
      "Scheduled_Sample_Collection_Time_HH_MM  :  91 Unique Values\n",
      "Cut-off Schedule  :  2 Unique Values\n",
      "Cut-off time_HH_MM  :  77 Unique Values\n",
      "Agent_ID  :  49 Unique Values\n",
      "Traffic_Conditions  :  3 Unique Values\n",
      "Agent_Location_KM  :  52 Unique Values\n",
      "Time_Taken_To_Reach_Patient_MM  :  89 Unique Values\n",
      "Time_For_Sample_Collection_MM  :  27 Unique Values\n",
      "Lab_Location_KM  :  119 Unique Values\n",
      "Time_Taken_To_Reach_Lab_MM  :  145 Unique Values\n",
      "Mode_Of_Transport  :  1 Unique Values\n",
      "Reached_On_Time  :  2 Unique Values\n"
     ]
    }
   ],
   "source": [
    "for col in df.columns[:]:\n",
    "    print(col, ' : ', len(df[col].unique()), 'Unique Values')"
   ]
  },
  {
   "cell_type": "code",
   "execution_count": 9,
   "id": "acd99d8d",
   "metadata": {},
   "outputs": [
    {
     "data": {
      "text/plain": [
       "((1019, 21),\n",
       " Index(['Patient_ID', 'Patient_Age', 'Patient_Gender', 'Test_Name', 'Sample',\n",
       "        'Way_Of_Storage_Of_Sample', 'Test_Booking_Date',\n",
       "        'Test_Booking_Time_HH_MM', 'Sample_Collection_Date',\n",
       "        'Scheduled_Sample_Collection_Time_HH_MM', 'Cut-off Schedule',\n",
       "        'Cut-off time_HH_MM', 'Agent_ID', 'Traffic_Conditions',\n",
       "        'Agent_Location_KM', 'Time_Taken_To_Reach_Patient_MM',\n",
       "        'Time_For_Sample_Collection_MM', 'Lab_Location_KM',\n",
       "        'Time_Taken_To_Reach_Lab_MM', 'Mode_Of_Transport', 'Reached_On_Time'],\n",
       "       dtype='object'))"
      ]
     },
     "execution_count": 9,
     "metadata": {},
     "output_type": "execute_result"
    }
   ],
   "source": [
    "df.shape, df.columns"
   ]
  },
  {
   "cell_type": "markdown",
   "id": "1f8896c8",
   "metadata": {},
   "source": [
    "#### **Separating the numerical columns from given dataset"
   ]
  },
  {
   "cell_type": "code",
   "execution_count": 10,
   "id": "0f3c49d3",
   "metadata": {},
   "outputs": [],
   "source": [
    "numerical_columns = df[['Patient_Age', 'Test_Booking_Time_HH_MM', 'Scheduled_Sample_Collection_Time_HH_MM',\n",
    "                       'Cut-off time_HH_MM', 'Agent_Location_KM', 'Time_Taken_To_Reach_Patient_MM',\n",
    "                        'Time_For_Sample_Collection_MM', 'Lab_Location_KM', 'Time_Taken_To_Reach_Lab_MM']]"
   ]
  },
  {
   "cell_type": "markdown",
   "id": "2046ec25",
   "metadata": {},
   "source": [
    "##### **Cheaking for outliers"
   ]
  },
  {
   "cell_type": "code",
   "execution_count": 11,
   "id": "cb7dd4ed",
   "metadata": {},
   "outputs": [
    {
     "data": {
      "text/plain": [
       "<AxesSubplot:xlabel='Patient_Age'>"
      ]
     },
     "execution_count": 11,
     "metadata": {},
     "output_type": "execute_result"
    },
    {
     "data": {
      "image/png": "[encoded data removed]",
      "text/plain": [
       "<Figure size 432x288 with 1 Axes>"
      ]
     },
     "metadata": {
      "needs_background": "light"
     },
     "output_type": "display_data"
    }
   ],
   "source": [
    "sns.boxplot(numerical_columns['Patient_Age'])"
   ]
  },
  {
   "cell_type": "code",
   "execution_count": 12,
   "id": "3266fbe8",
   "metadata": {},
   "outputs": [
    {
     "data": {
      "text/plain": [
       "<AxesSubplot:xlabel='Test_Booking_Time_HH_MM'>"
      ]
     },
     "execution_count": 12,
     "metadata": {},
     "output_type": "execute_result"
    },
    {
     "data": {
      "image/png": "[encoded data removed]",
      "text/plain": [
       "<Figure size 432x288 with 1 Axes>"
      ]
     },
     "metadata": {
      "needs_background": "light"
     },
     "output_type": "display_data"
    }
   ],
   "source": [
    "sns.boxplot(numerical_columns['Test_Booking_Time_HH_MM'])"
   ]
  },
  {
   "cell_type": "code",
   "execution_count": 13,
   "id": "ad25ab35",
   "metadata": {},
   "outputs": [
    {
     "data": {
      "text/plain": [
       "<AxesSubplot:xlabel='Scheduled_Sample_Collection_Time_HH_MM'>"
      ]
     },
     "execution_count": 13,
     "metadata": {},
     "output_type": "execute_result"
    },
    {
     "data": {
      "image/png": "[encoded data removed]",
      "text/plain": [
       "<Figure size 432x288 with 1 Axes>"
      ]
     },
     "metadata": {
      "needs_background": "light"
     },
     "output_type": "display_data"
    }
   ],
   "source": [
    "sns.boxplot(numerical_columns['Scheduled_Sample_Collection_Time_HH_MM'])"
   ]
  },
  {
   "cell_type": "code",
   "execution_count": 14,
   "id": "af3600fc",
   "metadata": {},
   "outputs": [
    {
     "data": {
      "text/plain": [
       "<AxesSubplot:xlabel='Cut-off time_HH_MM'>"
      ]
     },
     "execution_count": 14,
     "metadata": {},
     "output_type": "execute_result"
    },
    {
     "data": {
      "image/png": "[encoded data removed]",
      "text/plain": [
       "<Figure size 432x288 with 1 Axes>"
      ]
     },
     "metadata": {
      "needs_background": "light"
     },
     "output_type": "display_data"
    }
   ],
   "source": [
    "sns.boxplot(numerical_columns['Cut-off time_HH_MM'])"
   ]
  },
  {
   "cell_type": "code",
   "execution_count": 15,
   "id": "b735f36e",
   "metadata": {},
   "outputs": [
    {
     "data": {
      "text/plain": [
       "<AxesSubplot:xlabel='Agent_Location_KM'>"
      ]
     },
     "execution_count": 15,
     "metadata": {},
     "output_type": "execute_result"
    },
    {
     "data": {
      "image/png": "[encoded data removed]",
      "text/plain": [
       "<Figure size 432x288 with 1 Axes>"
      ]
     },
     "metadata": {
      "needs_background": "light"
     },
     "output_type": "display_data"
    }
   ],
   "source": [
    "sns.boxplot(np.log(numerical_columns['Agent_Location_KM']))"
   ]
  },
  {
   "cell_type": "code",
   "execution_count": 16,
   "id": "579fef02",
   "metadata": {},
   "outputs": [
    {
     "data": {
      "text/plain": [
       "False"
      ]
     },
     "execution_count": 16,
     "metadata": {},
     "output_type": "execute_result"
    }
   ],
   "source": [
    "np.log(numerical_columns['Agent_Location_KM']).isna().any()"
   ]
  },
  {
   "cell_type": "code",
   "execution_count": 17,
   "id": "c32c4db1",
   "metadata": {},
   "outputs": [
    {
     "data": {
      "text/plain": [
       "<AxesSubplot:xlabel='Time_Taken_To_Reach_Patient_MM'>"
      ]
     },
     "execution_count": 17,
     "metadata": {},
     "output_type": "execute_result"
    },
    {
     "data": {
      "image/png": "[encoded data removed]",
      "text/plain": [
       "<Figure size 432x288 with 1 Axes>"
      ]
     },
     "metadata": {
      "needs_background": "light"
     },
     "output_type": "display_data"
    }
   ],
   "source": [
    "sns.boxplot(np.log(numerical_columns['Time_Taken_To_Reach_Patient_MM']))"
   ]
  },
  {
   "cell_type": "code",
   "execution_count": 18,
   "id": "13b5341c",
   "metadata": {},
   "outputs": [
    {
     "data": {
      "text/plain": [
       "False"
      ]
     },
     "execution_count": 18,
     "metadata": {},
     "output_type": "execute_result"
    }
   ],
   "source": [
    "np.log(numerical_columns['Time_Taken_To_Reach_Patient_MM']).isna().any()"
   ]
  },
  {
   "cell_type": "code",
   "execution_count": 19,
   "id": "36546abd",
   "metadata": {},
   "outputs": [
    {
     "data": {
      "text/plain": [
       "<AxesSubplot:xlabel='Time_For_Sample_Collection_MM'>"
      ]
     },
     "execution_count": 19,
     "metadata": {},
     "output_type": "execute_result"
    },
    {
     "data": {
      "image/png": "[encoded data removed]",
      "text/plain": [
       "<Figure size 432x288 with 1 Axes>"
      ]
     },
     "metadata": {
      "needs_background": "light"
     },
     "output_type": "display_data"
    }
   ],
   "source": [
    "sns.boxplot(numerical_columns['Time_For_Sample_Collection_MM'])"
   ]
  },
  {
   "cell_type": "code",
   "execution_count": 20,
   "id": "9a72f7b3",
   "metadata": {},
   "outputs": [
    {
     "data": {
      "text/plain": [
       "False"
      ]
     },
     "execution_count": 20,
     "metadata": {},
     "output_type": "execute_result"
    }
   ],
   "source": [
    "np.log(numerical_columns['Lab_Location_KM']).isna().any()"
   ]
  },
  {
   "cell_type": "code",
   "execution_count": 21,
   "id": "e136cb4e",
   "metadata": {},
   "outputs": [
    {
     "data": {
      "text/plain": [
       "<AxesSubplot:xlabel='Lab_Location_KM'>"
      ]
     },
     "execution_count": 21,
     "metadata": {},
     "output_type": "execute_result"
    },
    {
     "data": {
      "image/png": "[encoded data removed]",
      "text/plain": [
       "<Figure size 432x288 with 1 Axes>"
      ]
     },
     "metadata": {
      "needs_background": "light"
     },
     "output_type": "display_data"
    }
   ],
   "source": [
    "sns.boxplot(np.log(numerical_columns['Lab_Location_KM']))"
   ]
  },
  {
   "cell_type": "code",
   "execution_count": 22,
   "id": "c9fa2ebc",
   "metadata": {},
   "outputs": [
    {
     "data": {
      "text/plain": [
       "<AxesSubplot:xlabel='Time_Taken_To_Reach_Lab_MM'>"
      ]
     },
     "execution_count": 22,
     "metadata": {},
     "output_type": "execute_result"
    },
    {
     "data": {
      "image/png": "[encoded data removed]",
      "text/plain": [
       "<Figure size 432x288 with 1 Axes>"
      ]
     },
     "metadata": {
      "needs_background": "light"
     },
     "output_type": "display_data"
    }
   ],
   "source": [
    "sns.boxplot(np.log(numerical_columns['Time_Taken_To_Reach_Lab_MM']))"
   ]
  },
  {
   "cell_type": "code",
   "execution_count": 23,
   "id": "3426f686",
   "metadata": {},
   "outputs": [
    {
     "data": {
      "text/plain": [
       "False"
      ]
     },
     "execution_count": 23,
     "metadata": {},
     "output_type": "execute_result"
    }
   ],
   "source": [
    "np.log(numerical_columns['Time_Taken_To_Reach_Lab_MM']).isna().any()"
   ]
  },
  {
   "cell_type": "markdown",
   "id": "1880d68e",
   "metadata": {},
   "source": [
    "#### **Using Transformations for getting bell shaped curved"
   ]
  },
  {
   "cell_type": "code",
   "execution_count": 24,
   "id": "5a4358f8",
   "metadata": {},
   "outputs": [],
   "source": [
    "numerical_columns['Agent_Location_KM'] = np.log(numerical_columns['Agent_Location_KM'])\n",
    "numerical_columns['Time_Taken_To_Reach_Patient_MM'] = np.log(numerical_columns['Time_Taken_To_Reach_Patient_MM'])\n",
    "numerical_columns['Lab_Location_KM'] = np.log(numerical_columns['Lab_Location_KM'])\n",
    "numerical_columns['Time_Taken_To_Reach_Lab_MM'] = np.log(numerical_columns['Time_Taken_To_Reach_Lab_MM'])"
   ]
  },
  {
   "cell_type": "markdown",
   "id": "a081e8e9",
   "metadata": {},
   "source": [
    "### Outliers Treatment"
   ]
  },
  {
   "cell_type": "code",
   "execution_count": 25,
   "id": "6a8ac907",
   "metadata": {},
   "outputs": [],
   "source": [
    "from feature_engine.outliers import Winsorizer"
   ]
  },
  {
   "cell_type": "code",
   "execution_count": 26,
   "id": "39b836d6",
   "metadata": {},
   "outputs": [],
   "source": [
    "w = Winsorizer(capping_method='iqr', fold = 1.5, tail = 'both', \n",
    "              variables=['Patient_Age', 'Test_Booking_Time_HH_MM', 'Scheduled_Sample_Collection_Time_HH_MM',\n",
    "                       'Cut-off time_HH_MM', 'Agent_Location_KM', 'Time_Taken_To_Reach_Patient_MM',\n",
    "                        'Time_For_Sample_Collection_MM', 'Lab_Location_KM', 'Time_Taken_To_Reach_Lab_MM'])\n",
    "\n",
    "df_winsor = w.fit_transform(numerical_columns[['Patient_Age', 'Test_Booking_Time_HH_MM', 'Scheduled_Sample_Collection_Time_HH_MM',\n",
    "                       'Cut-off time_HH_MM', 'Agent_Location_KM', 'Time_Taken_To_Reach_Patient_MM',\n",
    "                        'Time_For_Sample_Collection_MM', 'Lab_Location_KM', 'Time_Taken_To_Reach_Lab_MM']])"
   ]
  },
  {
   "cell_type": "code",
   "execution_count": 27,
   "id": "6591eb0c",
   "metadata": {},
   "outputs": [
    {
     "data": {
      "text/html": [
       "<div>\n",
       "<style scoped>\n",
       "    .dataframe tbody tr th:only-of-type {\n",
       "        vertical-align: middle;\n",
       "    }\n",
       "\n",
       "    .dataframe tbody tr th {\n",
       "        vertical-align: top;\n",
       "    }\n",
       "\n",
       "    .dataframe thead th {\n",
       "        text-align: right;\n",
       "    }\n",
       "</style>\n",
       "<table border=\"1\" class=\"dataframe\">\n",
       "  <thead>\n",
       "    <tr style=\"text-align: right;\">\n",
       "      <th></th>\n",
       "      <th>Patient_Age</th>\n",
       "      <th>Test_Booking_Time_HH_MM</th>\n",
       "      <th>Scheduled_Sample_Collection_Time_HH_MM</th>\n",
       "      <th>Cut-off time_HH_MM</th>\n",
       "      <th>Agent_Location_KM</th>\n",
       "      <th>Time_Taken_To_Reach_Patient_MM</th>\n",
       "      <th>Time_For_Sample_Collection_MM</th>\n",
       "      <th>Lab_Location_KM</th>\n",
       "      <th>Time_Taken_To_Reach_Lab_MM</th>\n",
       "    </tr>\n",
       "  </thead>\n",
       "  <tbody>\n",
       "    <tr>\n",
       "      <th>count</th>\n",
       "      <td>1019.000000</td>\n",
       "      <td>1019.000000</td>\n",
       "      <td>1019.000000</td>\n",
       "      <td>1019.000000</td>\n",
       "      <td>1019.000000</td>\n",
       "      <td>1019.000000</td>\n",
       "      <td>1019.000000</td>\n",
       "      <td>1019.000000</td>\n",
       "      <td>1019.000000</td>\n",
       "    </tr>\n",
       "    <tr>\n",
       "      <th>mean</th>\n",
       "      <td>41.456820</td>\n",
       "      <td>13.786634</td>\n",
       "      <td>13.281178</td>\n",
       "      <td>16.207144</td>\n",
       "      <td>2.206447</td>\n",
       "      <td>3.241530</td>\n",
       "      <td>8.588813</td>\n",
       "      <td>2.406768</td>\n",
       "      <td>3.521687</td>\n",
       "    </tr>\n",
       "    <tr>\n",
       "      <th>std</th>\n",
       "      <td>14.015799</td>\n",
       "      <td>3.641620</td>\n",
       "      <td>3.272607</td>\n",
       "      <td>2.827143</td>\n",
       "      <td>0.637812</td>\n",
       "      <td>0.749952</td>\n",
       "      <td>4.642284</td>\n",
       "      <td>0.726250</td>\n",
       "      <td>0.941294</td>\n",
       "    </tr>\n",
       "    <tr>\n",
       "      <th>min</th>\n",
       "      <td>3.000000</td>\n",
       "      <td>3.200000</td>\n",
       "      <td>4.000000</td>\n",
       "      <td>9.875000</td>\n",
       "      <td>0.417323</td>\n",
       "      <td>1.181694</td>\n",
       "      <td>1.000000</td>\n",
       "      <td>0.705892</td>\n",
       "      <td>1.084413</td>\n",
       "    </tr>\n",
       "    <tr>\n",
       "      <th>25%</th>\n",
       "      <td>31.000000</td>\n",
       "      <td>11.000000</td>\n",
       "      <td>11.000000</td>\n",
       "      <td>14.150000</td>\n",
       "      <td>1.791759</td>\n",
       "      <td>2.708050</td>\n",
       "      <td>4.000000</td>\n",
       "      <td>1.945910</td>\n",
       "      <td>2.890372</td>\n",
       "    </tr>\n",
       "    <tr>\n",
       "      <th>50%</th>\n",
       "      <td>40.000000</td>\n",
       "      <td>13.300000</td>\n",
       "      <td>13.000000</td>\n",
       "      <td>17.000000</td>\n",
       "      <td>2.302585</td>\n",
       "      <td>3.258097</td>\n",
       "      <td>10.000000</td>\n",
       "      <td>2.379546</td>\n",
       "      <td>3.332205</td>\n",
       "    </tr>\n",
       "    <tr>\n",
       "      <th>75%</th>\n",
       "      <td>50.000000</td>\n",
       "      <td>16.200000</td>\n",
       "      <td>16.000000</td>\n",
       "      <td>17.000000</td>\n",
       "      <td>2.708050</td>\n",
       "      <td>3.725621</td>\n",
       "      <td>10.000000</td>\n",
       "      <td>2.772589</td>\n",
       "      <td>4.094345</td>\n",
       "    </tr>\n",
       "    <tr>\n",
       "      <th>max</th>\n",
       "      <td>78.500000</td>\n",
       "      <td>24.000000</td>\n",
       "      <td>23.000000</td>\n",
       "      <td>21.275000</td>\n",
       "      <td>4.082486</td>\n",
       "      <td>5.251977</td>\n",
       "      <td>19.000000</td>\n",
       "      <td>4.012607</td>\n",
       "      <td>5.900304</td>\n",
       "    </tr>\n",
       "  </tbody>\n",
       "</table>\n",
       "</div>"
      ],
      "text/plain": [
       "       Patient_Age  Test_Booking_Time_HH_MM  \\\n",
       "count  1019.000000              1019.000000   \n",
       "mean     41.456820                13.786634   \n",
       "std      14.015799                 3.641620   \n",
       "min       3.000000                 3.200000   \n",
       "25%      31.000000                11.000000   \n",
       "50%      40.000000                13.300000   \n",
       "75%      50.000000                16.200000   \n",
       "max      78.500000                24.000000   \n",
       "\n",
       "       Scheduled_Sample_Collection_Time_HH_MM  Cut-off time_HH_MM  \\\n",
       "count                             1019.000000         1019.000000   \n",
       "mean                                13.281178           16.207144   \n",
       "std                                  3.272607            2.827143   \n",
       "min                                  4.000000            9.875000   \n",
       "25%                                 11.000000           14.150000   \n",
       "50%                                 13.000000           17.000000   \n",
       "75%                                 16.000000           17.000000   \n",
       "max                                 23.000000           21.275000   \n",
       "\n",
       "       Agent_Location_KM  Time_Taken_To_Reach_Patient_MM  \\\n",
       "count        1019.000000                     1019.000000   \n",
       "mean            2.206447                        3.241530   \n",
       "std             0.637812                        0.749952   \n",
       "min             0.417323                        1.181694   \n",
       "25%             1.791759                        2.708050   \n",
       "50%             2.302585                        3.258097   \n",
       "75%             2.708050                        3.725621   \n",
       "max             4.082486                        5.251977   \n",
       "\n",
       "       Time_For_Sample_Collection_MM  Lab_Location_KM  \\\n",
       "count                    1019.000000      1019.000000   \n",
       "mean                        8.588813         2.406768   \n",
       "std                         4.642284         0.726250   \n",
       "min                         1.000000         0.705892   \n",
       "25%                         4.000000         1.945910   \n",
       "50%                        10.000000         2.379546   \n",
       "75%                        10.000000         2.772589   \n",
       "max                        19.000000         4.012607   \n",
       "\n",
       "       Time_Taken_To_Reach_Lab_MM  \n",
       "count                 1019.000000  \n",
       "mean                     3.521687  \n",
       "std                      0.941294  \n",
       "min                      1.084413  \n",
       "25%                      2.890372  \n",
       "50%                      3.332205  \n",
       "75%                      4.094345  \n",
       "max                      5.900304  "
      ]
     },
     "execution_count": 27,
     "metadata": {},
     "output_type": "execute_result"
    }
   ],
   "source": [
    "df_winsor.describe()"
   ]
  },
  {
   "cell_type": "markdown",
   "id": "183f9b06",
   "metadata": {},
   "source": [
    "#### **Separating the catagorical columns from given dataset"
   ]
  },
  {
   "cell_type": "code",
   "execution_count": 28,
   "id": "7a7de05f",
   "metadata": {},
   "outputs": [],
   "source": [
    "catagorical_columns = df[['Patient_Gender', 'Test_Name', 'Sample', 'Way_Of_Storage_Of_Sample',\n",
    "                          'Cut-off Schedule', 'Traffic_Conditions', 'Reached_On_Time']]"
   ]
  },
  {
   "cell_type": "markdown",
   "id": "eb7aa899",
   "metadata": {},
   "source": [
    "#### **Analysis for catagorical coloumns"
   ]
  },
  {
   "cell_type": "code",
   "execution_count": 29,
   "id": "a8442836",
   "metadata": {},
   "outputs": [
    {
     "data": {
      "text/plain": [
       "<AxesSubplot:xlabel='Patient_Gender', ylabel='count'>"
      ]
     },
     "execution_count": 29,
     "metadata": {},
     "output_type": "execute_result"
    },
    {
     "data": {
      "image/png": "[encoded data removed]",
      "text/plain": [
       "<Figure size 576x288 with 1 Axes>"
      ]
     },
     "metadata": {
      "needs_background": "light"
     },
     "output_type": "display_data"
    }
   ],
   "source": [
    "plt.figure(figsize=(8, 4))\n",
    "sns.countplot(data = catagorical_columns, x = 'Patient_Gender', hue = 'Reached_On_Time')"
   ]
  },
  {
   "cell_type": "code",
   "execution_count": 30,
   "id": "de0968d1",
   "metadata": {},
   "outputs": [
    {
     "data": {
      "image/png": "[encoded data removed]",
      "text/plain": [
       "<Figure size 1296x432 with 1 Axes>"
      ]
     },
     "metadata": {
      "needs_background": "light"
     },
     "output_type": "display_data"
    }
   ],
   "source": [
    "plt.figure(figsize=(18, 6))\n",
    "sns.countplot(data = catagorical_columns, x = 'Test_Name', hue = 'Reached_On_Time')\n",
    "plt.xticks(rotation = 90)\n",
    "plt.show()"
   ]
  },
  {
   "cell_type": "code",
   "execution_count": 31,
   "id": "f2f46a92",
   "metadata": {},
   "outputs": [],
   "source": [
    "catagorical_columns['Sample'] = np.where(catagorical_columns['Sample'] == 'blood', 'Blood',\n",
    "                                         catagorical_columns['Sample'])"
   ]
  },
  {
   "cell_type": "code",
   "execution_count": 32,
   "id": "b6f0978d",
   "metadata": {},
   "outputs": [
    {
     "data": {
      "image/png": "[encoded data removed]",
      "text/plain": [
       "<Figure size 1080x432 with 1 Axes>"
      ]
     },
     "metadata": {
      "needs_background": "light"
     },
     "output_type": "display_data"
    }
   ],
   "source": [
    "plt.figure(figsize=(15, 6))\n",
    "sns.countplot(data = catagorical_columns, x = 'Sample', hue = 'Reached_On_Time')\n",
    "plt.xticks(rotation = 90)\n",
    "plt.show()"
   ]
  },
  {
   "cell_type": "code",
   "execution_count": 33,
   "id": "6f906dd6",
   "metadata": {},
   "outputs": [
    {
     "data": {
      "text/plain": [
       "<AxesSubplot:xlabel='Way_Of_Storage_Of_Sample', ylabel='count'>"
      ]
     },
     "execution_count": 33,
     "metadata": {},
     "output_type": "execute_result"
    },
    {
     "data": {
      "image/png": "[encoded data removed]",
      "text/plain": [
       "<Figure size 576x288 with 1 Axes>"
      ]
     },
     "metadata": {
      "needs_background": "light"
     },
     "output_type": "display_data"
    }
   ],
   "source": [
    "plt.figure(figsize=(8, 4))\n",
    "sns.countplot(data = catagorical_columns, x = 'Way_Of_Storage_Of_Sample', hue = 'Reached_On_Time')"
   ]
  },
  {
   "cell_type": "code",
   "execution_count": 34,
   "id": "1131de0e",
   "metadata": {},
   "outputs": [
    {
     "data": {
      "text/plain": [
       "<AxesSubplot:xlabel='Cut-off Schedule', ylabel='count'>"
      ]
     },
     "execution_count": 34,
     "metadata": {},
     "output_type": "execute_result"
    },
    {
     "data": {
      "image/png": "[encoded data removed]",
      "text/plain": [
       "<Figure size 720x432 with 1 Axes>"
      ]
     },
     "metadata": {
      "needs_background": "light"
     },
     "output_type": "display_data"
    }
   ],
   "source": [
    "plt.figure(figsize=(10, 6))\n",
    "sns.countplot(data = catagorical_columns, x = 'Cut-off Schedule', hue = 'Reached_On_Time')"
   ]
  },
  {
   "cell_type": "code",
   "execution_count": 35,
   "id": "c11bf5e9",
   "metadata": {},
   "outputs": [
    {
     "data": {
      "image/png": "[encoded data removed]",
      "text/plain": [
       "<Figure size 1080x432 with 1 Axes>"
      ]
     },
     "metadata": {
      "needs_background": "light"
     },
     "output_type": "display_data"
    }
   ],
   "source": [
    "plt.figure(figsize=(15, 6))\n",
    "sns.countplot(data = catagorical_columns, x = 'Traffic_Conditions', hue = 'Reached_On_Time')\n",
    "plt.xticks(rotation = 90)\n",
    "plt.show()"
   ]
  },
  {
   "cell_type": "markdown",
   "id": "a2cff193",
   "metadata": {},
   "source": [
    "#### **Combining numerical and catagorical columns respectively !!"
   ]
  },
  {
   "cell_type": "code",
   "execution_count": 36,
   "id": "b9f99baf",
   "metadata": {},
   "outputs": [],
   "source": [
    "final = pd.concat([df_winsor, catagorical_columns], axis = 1)"
   ]
  },
  {
   "cell_type": "code",
   "execution_count": 37,
   "id": "72a81e14",
   "metadata": {},
   "outputs": [
    {
     "name": "stdout",
     "output_type": "stream",
     "text": [
      "<class 'pandas.core.frame.DataFrame'>\n",
      "RangeIndex: 1019 entries, 0 to 1018\n",
      "Data columns (total 16 columns):\n",
      " #   Column                                  Non-Null Count  Dtype  \n",
      "---  ------                                  --------------  -----  \n",
      " 0   Patient_Age                             1019 non-null   float64\n",
      " 1   Test_Booking_Time_HH_MM                 1019 non-null   float64\n",
      " 2   Scheduled_Sample_Collection_Time_HH_MM  1019 non-null   float64\n",
      " 3   Cut-off time_HH_MM                      1019 non-null   float64\n",
      " 4   Agent_Location_KM                       1019 non-null   float64\n",
      " 5   Time_Taken_To_Reach_Patient_MM          1019 non-null   float64\n",
      " 6   Time_For_Sample_Collection_MM           1019 non-null   float64\n",
      " 7   Lab_Location_KM                         1019 non-null   float64\n",
      " 8   Time_Taken_To_Reach_Lab_MM              1019 non-null   float64\n",
      " 9   Patient_Gender                          1019 non-null   object \n",
      " 10  Test_Name                               1019 non-null   object \n",
      " 11  Sample                                  1019 non-null   object \n",
      " 12  Way_Of_Storage_Of_Sample                1019 non-null   object \n",
      " 13  Cut-off Schedule                        1019 non-null   object \n",
      " 14  Traffic_Conditions                      1019 non-null   object \n",
      " 15  Reached_On_Time                         1019 non-null   object \n",
      "dtypes: float64(9), object(7)\n",
      "memory usage: 127.5+ KB\n"
     ]
    }
   ],
   "source": [
    "final.info()"
   ]
  },
  {
   "cell_type": "markdown",
   "id": "af32ae1c",
   "metadata": {},
   "source": [
    "### Descriptive Analysis"
   ]
  },
  {
   "cell_type": "code",
   "execution_count": 38,
   "id": "19ff7c03",
   "metadata": {},
   "outputs": [
    {
     "data": {
      "text/html": [
       "<div>\n",
       "<style scoped>\n",
       "    .dataframe tbody tr th:only-of-type {\n",
       "        vertical-align: middle;\n",
       "    }\n",
       "\n",
       "    .dataframe tbody tr th {\n",
       "        vertical-align: top;\n",
       "    }\n",
       "\n",
       "    .dataframe thead th {\n",
       "        text-align: right;\n",
       "    }\n",
       "</style>\n",
       "<table border=\"1\" class=\"dataframe\">\n",
       "  <thead>\n",
       "    <tr style=\"text-align: right;\">\n",
       "      <th></th>\n",
       "      <th>Patient_Age</th>\n",
       "      <th>Test_Booking_Time_HH_MM</th>\n",
       "      <th>Scheduled_Sample_Collection_Time_HH_MM</th>\n",
       "      <th>Cut-off time_HH_MM</th>\n",
       "      <th>Agent_Location_KM</th>\n",
       "      <th>Time_Taken_To_Reach_Patient_MM</th>\n",
       "      <th>Time_For_Sample_Collection_MM</th>\n",
       "      <th>Lab_Location_KM</th>\n",
       "      <th>Time_Taken_To_Reach_Lab_MM</th>\n",
       "    </tr>\n",
       "  </thead>\n",
       "  <tbody>\n",
       "    <tr>\n",
       "      <th>count</th>\n",
       "      <td>1019.000000</td>\n",
       "      <td>1019.000000</td>\n",
       "      <td>1019.000000</td>\n",
       "      <td>1019.000000</td>\n",
       "      <td>1019.000000</td>\n",
       "      <td>1019.000000</td>\n",
       "      <td>1019.000000</td>\n",
       "      <td>1019.000000</td>\n",
       "      <td>1019.000000</td>\n",
       "    </tr>\n",
       "    <tr>\n",
       "      <th>mean</th>\n",
       "      <td>41.456820</td>\n",
       "      <td>13.786634</td>\n",
       "      <td>13.281178</td>\n",
       "      <td>16.207144</td>\n",
       "      <td>2.206447</td>\n",
       "      <td>3.241530</td>\n",
       "      <td>8.588813</td>\n",
       "      <td>2.406768</td>\n",
       "      <td>3.521687</td>\n",
       "    </tr>\n",
       "    <tr>\n",
       "      <th>std</th>\n",
       "      <td>14.015799</td>\n",
       "      <td>3.641620</td>\n",
       "      <td>3.272607</td>\n",
       "      <td>2.827143</td>\n",
       "      <td>0.637812</td>\n",
       "      <td>0.749952</td>\n",
       "      <td>4.642284</td>\n",
       "      <td>0.726250</td>\n",
       "      <td>0.941294</td>\n",
       "    </tr>\n",
       "    <tr>\n",
       "      <th>min</th>\n",
       "      <td>3.000000</td>\n",
       "      <td>3.200000</td>\n",
       "      <td>4.000000</td>\n",
       "      <td>9.875000</td>\n",
       "      <td>0.417323</td>\n",
       "      <td>1.181694</td>\n",
       "      <td>1.000000</td>\n",
       "      <td>0.705892</td>\n",
       "      <td>1.084413</td>\n",
       "    </tr>\n",
       "    <tr>\n",
       "      <th>25%</th>\n",
       "      <td>31.000000</td>\n",
       "      <td>11.000000</td>\n",
       "      <td>11.000000</td>\n",
       "      <td>14.150000</td>\n",
       "      <td>1.791759</td>\n",
       "      <td>2.708050</td>\n",
       "      <td>4.000000</td>\n",
       "      <td>1.945910</td>\n",
       "      <td>2.890372</td>\n",
       "    </tr>\n",
       "    <tr>\n",
       "      <th>50%</th>\n",
       "      <td>40.000000</td>\n",
       "      <td>13.300000</td>\n",
       "      <td>13.000000</td>\n",
       "      <td>17.000000</td>\n",
       "      <td>2.302585</td>\n",
       "      <td>3.258097</td>\n",
       "      <td>10.000000</td>\n",
       "      <td>2.379546</td>\n",
       "      <td>3.332205</td>\n",
       "    </tr>\n",
       "    <tr>\n",
       "      <th>75%</th>\n",
       "      <td>50.000000</td>\n",
       "      <td>16.200000</td>\n",
       "      <td>16.000000</td>\n",
       "      <td>17.000000</td>\n",
       "      <td>2.708050</td>\n",
       "      <td>3.725621</td>\n",
       "      <td>10.000000</td>\n",
       "      <td>2.772589</td>\n",
       "      <td>4.094345</td>\n",
       "    </tr>\n",
       "    <tr>\n",
       "      <th>max</th>\n",
       "      <td>78.500000</td>\n",
       "      <td>24.000000</td>\n",
       "      <td>23.000000</td>\n",
       "      <td>21.275000</td>\n",
       "      <td>4.082486</td>\n",
       "      <td>5.251977</td>\n",
       "      <td>19.000000</td>\n",
       "      <td>4.012607</td>\n",
       "      <td>5.900304</td>\n",
       "    </tr>\n",
       "  </tbody>\n",
       "</table>\n",
       "</div>"
      ],
      "text/plain": [
       "       Patient_Age  Test_Booking_Time_HH_MM  \\\n",
       "count  1019.000000              1019.000000   \n",
       "mean     41.456820                13.786634   \n",
       "std      14.015799                 3.641620   \n",
       "min       3.000000                 3.200000   \n",
       "25%      31.000000                11.000000   \n",
       "50%      40.000000                13.300000   \n",
       "75%      50.000000                16.200000   \n",
       "max      78.500000                24.000000   \n",
       "\n",
       "       Scheduled_Sample_Collection_Time_HH_MM  Cut-off time_HH_MM  \\\n",
       "count                             1019.000000         1019.000000   \n",
       "mean                                13.281178           16.207144   \n",
       "std                                  3.272607            2.827143   \n",
       "min                                  4.000000            9.875000   \n",
       "25%                                 11.000000           14.150000   \n",
       "50%                                 13.000000           17.000000   \n",
       "75%                                 16.000000           17.000000   \n",
       "max                                 23.000000           21.275000   \n",
       "\n",
       "       Agent_Location_KM  Time_Taken_To_Reach_Patient_MM  \\\n",
       "count        1019.000000                     1019.000000   \n",
       "mean            2.206447                        3.241530   \n",
       "std             0.637812                        0.749952   \n",
       "min             0.417323                        1.181694   \n",
       "25%             1.791759                        2.708050   \n",
       "50%             2.302585                        3.258097   \n",
       "75%             2.708050                        3.725621   \n",
       "max             4.082486                        5.251977   \n",
       "\n",
       "       Time_For_Sample_Collection_MM  Lab_Location_KM  \\\n",
       "count                    1019.000000      1019.000000   \n",
       "mean                        8.588813         2.406768   \n",
       "std                         4.642284         0.726250   \n",
       "min                         1.000000         0.705892   \n",
       "25%                         4.000000         1.945910   \n",
       "50%                        10.000000         2.379546   \n",
       "75%                        10.000000         2.772589   \n",
       "max                        19.000000         4.012607   \n",
       "\n",
       "       Time_Taken_To_Reach_Lab_MM  \n",
       "count                 1019.000000  \n",
       "mean                     3.521687  \n",
       "std                      0.941294  \n",
       "min                      1.084413  \n",
       "25%                      2.890372  \n",
       "50%                      3.332205  \n",
       "75%                      4.094345  \n",
       "max                      5.900304  "
      ]
     },
     "execution_count": 38,
     "metadata": {},
     "output_type": "execute_result"
    }
   ],
   "source": [
    "final.describe()"
   ]
  },
  {
   "cell_type": "markdown",
   "id": "db0e8da2",
   "metadata": {},
   "source": [
    "## Exploratory Data Analysis"
   ]
  },
  {
   "cell_type": "markdown",
   "id": "a0777e62",
   "metadata": {},
   "source": [
    "#### **Univariate"
   ]
  },
  {
   "cell_type": "code",
   "execution_count": 39,
   "id": "43f6e3de",
   "metadata": {},
   "outputs": [
    {
     "data": {
      "text/plain": [
       "<AxesSubplot:xlabel='Patient_Age', ylabel='Density'>"
      ]
     },
     "execution_count": 39,
     "metadata": {},
     "output_type": "execute_result"
    },
    {
     "data": {
      "image/png": "[encoded data removed]",
      "text/plain": [
       "<Figure size 432x288 with 1 Axes>"
      ]
     },
     "metadata": {
      "needs_background": "light"
     },
     "output_type": "display_data"
    }
   ],
   "source": [
    "sns.distplot(final['Patient_Age'])"
   ]
  },
  {
   "cell_type": "code",
   "execution_count": 40,
   "id": "2044c673",
   "metadata": {},
   "outputs": [
    {
     "data": {
      "text/plain": [
       "<AxesSubplot:xlabel='Test_Booking_Time_HH_MM', ylabel='Density'>"
      ]
     },
     "execution_count": 40,
     "metadata": {},
     "output_type": "execute_result"
    },
    {
     "data": {
      "image/png": "[encoded data removed]",
      "text/plain": [
       "<Figure size 432x288 with 1 Axes>"
      ]
     },
     "metadata": {
      "needs_background": "light"
     },
     "output_type": "display_data"
    }
   ],
   "source": [
    "sns.distplot(final['Test_Booking_Time_HH_MM'])"
   ]
  },
  {
   "cell_type": "code",
   "execution_count": 41,
   "id": "cffb90fc",
   "metadata": {},
   "outputs": [
    {
     "data": {
      "text/plain": [
       "<AxesSubplot:xlabel='Cut-off time_HH_MM', ylabel='Density'>"
      ]
     },
     "execution_count": 41,
     "metadata": {},
     "output_type": "execute_result"
    },
    {
     "data": {
      "image/png": "[encoded data removed]",
      "text/plain": [
       "<Figure size 432x288 with 1 Axes>"
      ]
     },
     "metadata": {
      "needs_background": "light"
     },
     "output_type": "display_data"
    }
   ],
   "source": [
    "sns.distplot(final['Cut-off time_HH_MM'])"
   ]
  },
  {
   "cell_type": "code",
   "execution_count": 42,
   "id": "91bf8c58",
   "metadata": {},
   "outputs": [
    {
     "data": {
      "text/plain": [
       "<AxesSubplot:xlabel='Agent_Location_KM', ylabel='Density'>"
      ]
     },
     "execution_count": 42,
     "metadata": {},
     "output_type": "execute_result"
    },
    {
     "data": {
      "image/png": "[encoded data removed]",
      "text/plain": [
       "<Figure size 432x288 with 1 Axes>"
      ]
     },
     "metadata": {
      "needs_background": "light"
     },
     "output_type": "display_data"
    }
   ],
   "source": [
    "sns.distplot(final['Agent_Location_KM'])"
   ]
  },
  {
   "cell_type": "code",
   "execution_count": 43,
   "id": "bf862178",
   "metadata": {},
   "outputs": [
    {
     "data": {
      "text/plain": [
       "<AxesSubplot:xlabel='Time_Taken_To_Reach_Patient_MM', ylabel='Density'>"
      ]
     },
     "execution_count": 43,
     "metadata": {},
     "output_type": "execute_result"
    },
    {
     "data": {
      "image/png": "[encoded data removed]",
      "text/plain": [
       "<Figure size 432x288 with 1 Axes>"
      ]
     },
     "metadata": {
      "needs_background": "light"
     },
     "output_type": "display_data"
    }
   ],
   "source": [
    "sns.distplot(final['Time_Taken_To_Reach_Patient_MM'])"
   ]
  },
  {
   "cell_type": "code",
   "execution_count": 44,
   "id": "71a7cbbd",
   "metadata": {},
   "outputs": [
    {
     "data": {
      "text/plain": [
       "<AxesSubplot:xlabel='Time_For_Sample_Collection_MM', ylabel='Density'>"
      ]
     },
     "execution_count": 44,
     "metadata": {},
     "output_type": "execute_result"
    },
    {
     "data": {
      "image/png": "[encoded data removed]",
      "text/plain": [
       "<Figure size 432x288 with 1 Axes>"
      ]
     },
     "metadata": {
      "needs_background": "light"
     },
     "output_type": "display_data"
    }
   ],
   "source": [
    "sns.distplot(final['Time_For_Sample_Collection_MM'])"
   ]
  },
  {
   "cell_type": "code",
   "execution_count": 45,
   "id": "236a5e43",
   "metadata": {},
   "outputs": [
    {
     "data": {
      "text/plain": [
       "<AxesSubplot:xlabel='Lab_Location_KM', ylabel='Density'>"
      ]
     },
     "execution_count": 45,
     "metadata": {},
     "output_type": "execute_result"
    },
    {
     "data": {
      "image/png": "[encoded data removed]",
      "text/plain": [
       "<Figure size 432x288 with 1 Axes>"
      ]
     },
     "metadata": {
      "needs_background": "light"
     },
     "output_type": "display_data"
    }
   ],
   "source": [
    "sns.distplot(final['Lab_Location_KM'])"
   ]
  },
  {
   "cell_type": "code",
   "execution_count": 46,
   "id": "0ac3856e",
   "metadata": {},
   "outputs": [
    {
     "data": {
      "text/plain": [
       "<AxesSubplot:xlabel='Time_Taken_To_Reach_Lab_MM', ylabel='Density'>"
      ]
     },
     "execution_count": 46,
     "metadata": {},
     "output_type": "execute_result"
    },
    {
     "data": {
      "image/png": "[encoded data removed]",
      "text/plain": [
       "<Figure size 432x288 with 1 Axes>"
      ]
     },
     "metadata": {
      "needs_background": "light"
     },
     "output_type": "display_data"
    }
   ],
   "source": [
    "sns.distplot(final['Time_Taken_To_Reach_Lab_MM'])"
   ]
  },
  {
   "cell_type": "markdown",
   "id": "ebab46ef",
   "metadata": {},
   "source": [
    "## ***Cheaking for correletion"
   ]
  },
  {
   "cell_type": "code",
   "execution_count": 47,
   "id": "f7b9445f",
   "metadata": {},
   "outputs": [
    {
     "data": {
      "image/png": "[encoded data removed]",
      "text/plain": [
       "<Figure size 720x360 with 2 Axes>"
      ]
     },
     "metadata": {
      "needs_background": "light"
     },
     "output_type": "display_data"
    }
   ],
   "source": [
    "plt.figure(figsize=(10,5))\n",
    "a = final.corr()\n",
    "mask = np.triu(np.ones_like(a, dtype=bool))\n",
    "sns.heatmap(a, mask = mask, annot=True, cmap='plasma_r');"
   ]
  },
  {
   "cell_type": "code",
   "execution_count": 48,
   "id": "e57800f5",
   "metadata": {},
   "outputs": [
    {
     "data": {
      "text/plain": [
       "Index(['Patient_Age', 'Test_Booking_Time_HH_MM',\n",
       "       'Scheduled_Sample_Collection_Time_HH_MM', 'Cut-off time_HH_MM',\n",
       "       'Agent_Location_KM', 'Time_Taken_To_Reach_Patient_MM',\n",
       "       'Time_For_Sample_Collection_MM', 'Lab_Location_KM',\n",
       "       'Time_Taken_To_Reach_Lab_MM', 'Patient_Gender', 'Test_Name', 'Sample',\n",
       "       'Way_Of_Storage_Of_Sample', 'Cut-off Schedule', 'Traffic_Conditions',\n",
       "       'Reached_On_Time'],\n",
       "      dtype='object')"
      ]
     },
     "execution_count": 48,
     "metadata": {},
     "output_type": "execute_result"
    }
   ],
   "source": [
    "final.columns"
   ]
  },
  {
   "cell_type": "markdown",
   "id": "d824aa88",
   "metadata": {},
   "source": [
    "#### **Bivariate & Multivariate"
   ]
  },
  {
   "cell_type": "code",
   "execution_count": 49,
   "id": "2bfacf8a",
   "metadata": {},
   "outputs": [
    {
     "data": {
      "image/png": "[encoded data removed]",
      "text/plain": [
       "<Figure size 720x576 with 1 Axes>"
      ]
     },
     "metadata": {
      "needs_background": "light"
     },
     "output_type": "display_data"
    }
   ],
   "source": [
    "plt.figure(figsize=(10, 8))\n",
    "sns.scatterplot(data = final, x = 'Scheduled_Sample_Collection_Time_HH_MM', y = 'Cut-off time_HH_MM', hue = 'Reached_On_Time')\n",
    "plt.show()"
   ]
  },
  {
   "cell_type": "code",
   "execution_count": 50,
   "id": "15240f13",
   "metadata": {},
   "outputs": [
    {
     "data": {
      "image/png": "[encoded data removed]",
      "text/plain": [
       "<Figure size 720x576 with 1 Axes>"
      ]
     },
     "metadata": {
      "needs_background": "light"
     },
     "output_type": "display_data"
    }
   ],
   "source": [
    "plt.figure(figsize=(10, 8))\n",
    "sns.scatterplot(data = final, x = 'Agent_Location_KM', y = 'Time_Taken_To_Reach_Patient_MM', hue = 'Reached_On_Time')\n",
    "plt.show()"
   ]
  },
  {
   "cell_type": "code",
   "execution_count": 51,
   "id": "81a734fe",
   "metadata": {},
   "outputs": [
    {
     "data": {
      "text/plain": [
       "<Figure size 720x576 with 0 Axes>"
      ]
     },
     "metadata": {},
     "output_type": "display_data"
    },
    {
     "data": {
      "image/png": "[encoded data removed]",
      "text/plain": [
       "<Figure size 432x432 with 3 Axes>"
      ]
     },
     "metadata": {
      "needs_background": "light"
     },
     "output_type": "display_data"
    }
   ],
   "source": [
    "plt.figure(figsize=(10, 8))\n",
    "sns.jointplot(data = final, x = 'Test_Booking_Time_HH_MM', y = 'Scheduled_Sample_Collection_Time_HH_MM', hue = 'Reached_On_Time')\n",
    "plt.show()"
   ]
  },
  {
   "cell_type": "code",
   "execution_count": 52,
   "id": "10388519",
   "metadata": {},
   "outputs": [
    {
     "data": {
      "text/plain": [
       "<Figure size 720x576 with 0 Axes>"
      ]
     },
     "metadata": {},
     "output_type": "display_data"
    },
    {
     "data": {
      "image/png": "[encoded data removed]",
      "text/plain": [
       "<Figure size 459.5x360 with 1 Axes>"
      ]
     },
     "metadata": {
      "needs_background": "light"
     },
     "output_type": "display_data"
    }
   ],
   "source": [
    "plt.figure(figsize=(10, 8))\n",
    "sns.relplot(data = final, x = 'Time_Taken_To_Reach_Patient_MM', y = 'Time_Taken_To_Reach_Lab_MM',\n",
    "            hue = 'Reached_On_Time', kind='line', markers = 'Way_Of_Storage_Of_Sample')\n",
    "plt.show()"
   ]
  },
  {
   "cell_type": "code",
   "execution_count": 53,
   "id": "32e6e72c",
   "metadata": {},
   "outputs": [
    {
     "data": {
      "image/png": "[encoded data removed]",
      "text/plain": [
       "<Figure size 720x576 with 1 Axes>"
      ]
     },
     "metadata": {
      "needs_background": "light"
     },
     "output_type": "display_data"
    }
   ],
   "source": [
    "plt.figure(figsize=(10, 8))\n",
    "sns.scatterplot(data = final, x = 'Agent_Location_KM', y = 'Time_Taken_To_Reach_Lab_MM',\n",
    "            hue = 'Reached_On_Time')\n",
    "plt.show()"
   ]
  },
  {
   "cell_type": "code",
   "execution_count": 54,
   "id": "14613f16",
   "metadata": {},
   "outputs": [],
   "source": [
    "final.drop(['Test_Booking_Time_HH_MM', 'Scheduled_Sample_Collection_Time_HH_MM',\n",
    "            'Agent_Location_KM', 'Time_Taken_To_Reach_Patient_MM'], axis = 1, inplace = True)"
   ]
  },
  {
   "cell_type": "code",
   "execution_count": 55,
   "id": "e4976b1c",
   "metadata": {},
   "outputs": [
    {
     "data": {
      "text/html": [
       "<div>\n",
       "<style scoped>\n",
       "    .dataframe tbody tr th:only-of-type {\n",
       "        vertical-align: middle;\n",
       "    }\n",
       "\n",
       "    .dataframe tbody tr th {\n",
       "        vertical-align: top;\n",
       "    }\n",
       "\n",
       "    .dataframe thead th {\n",
       "        text-align: right;\n",
       "    }\n",
       "</style>\n",
       "<table border=\"1\" class=\"dataframe\">\n",
       "  <thead>\n",
       "    <tr style=\"text-align: right;\">\n",
       "      <th></th>\n",
       "      <th>Patient_Age</th>\n",
       "      <th>Cut-off time_HH_MM</th>\n",
       "      <th>Time_For_Sample_Collection_MM</th>\n",
       "      <th>Lab_Location_KM</th>\n",
       "      <th>Time_Taken_To_Reach_Lab_MM</th>\n",
       "      <th>Patient_Gender</th>\n",
       "      <th>Test_Name</th>\n",
       "      <th>Sample</th>\n",
       "      <th>Way_Of_Storage_Of_Sample</th>\n",
       "      <th>Cut-off Schedule</th>\n",
       "      <th>Traffic_Conditions</th>\n",
       "      <th>Reached_On_Time</th>\n",
       "    </tr>\n",
       "  </thead>\n",
       "  <tbody>\n",
       "    <tr>\n",
       "      <th>0</th>\n",
       "      <td>34.0</td>\n",
       "      <td>17.00</td>\n",
       "      <td>10.0</td>\n",
       "      <td>2.564949</td>\n",
       "      <td>3.258097</td>\n",
       "      <td>Male</td>\n",
       "      <td>Acute kidney profile</td>\n",
       "      <td>Blood</td>\n",
       "      <td>Advanced</td>\n",
       "      <td>Sample by 5pm</td>\n",
       "      <td>Low Traffic</td>\n",
       "      <td>Y</td>\n",
       "    </tr>\n",
       "    <tr>\n",
       "      <th>1</th>\n",
       "      <td>25.0</td>\n",
       "      <td>17.13</td>\n",
       "      <td>10.0</td>\n",
       "      <td>1.791759</td>\n",
       "      <td>2.484907</td>\n",
       "      <td>Male</td>\n",
       "      <td>HbA1c</td>\n",
       "      <td>Blood</td>\n",
       "      <td>Normal</td>\n",
       "      <td>Daily</td>\n",
       "      <td>Low Traffic</td>\n",
       "      <td>Y</td>\n",
       "    </tr>\n",
       "    <tr>\n",
       "      <th>2</th>\n",
       "      <td>29.0</td>\n",
       "      <td>19.10</td>\n",
       "      <td>3.0</td>\n",
       "      <td>1.098612</td>\n",
       "      <td>2.197225</td>\n",
       "      <td>Female</td>\n",
       "      <td>Vitamin D-25Hydroxy</td>\n",
       "      <td>Blood</td>\n",
       "      <td>Normal</td>\n",
       "      <td>Daily</td>\n",
       "      <td>Medium Traffic</td>\n",
       "      <td>Y</td>\n",
       "    </tr>\n",
       "    <tr>\n",
       "      <th>3</th>\n",
       "      <td>28.0</td>\n",
       "      <td>17.00</td>\n",
       "      <td>10.0</td>\n",
       "      <td>1.609438</td>\n",
       "      <td>2.302585</td>\n",
       "      <td>Male</td>\n",
       "      <td>TSH</td>\n",
       "      <td>Blood</td>\n",
       "      <td>Normal</td>\n",
       "      <td>Daily</td>\n",
       "      <td>Low Traffic</td>\n",
       "      <td>Y</td>\n",
       "    </tr>\n",
       "    <tr>\n",
       "      <th>4</th>\n",
       "      <td>32.0</td>\n",
       "      <td>13.15</td>\n",
       "      <td>3.0</td>\n",
       "      <td>2.197225</td>\n",
       "      <td>3.988984</td>\n",
       "      <td>Male</td>\n",
       "      <td>Lipid Profile</td>\n",
       "      <td>Blood</td>\n",
       "      <td>Normal</td>\n",
       "      <td>Daily</td>\n",
       "      <td>High Traffic</td>\n",
       "      <td>Y</td>\n",
       "    </tr>\n",
       "    <tr>\n",
       "      <th>...</th>\n",
       "      <td>...</td>\n",
       "      <td>...</td>\n",
       "      <td>...</td>\n",
       "      <td>...</td>\n",
       "      <td>...</td>\n",
       "      <td>...</td>\n",
       "      <td>...</td>\n",
       "      <td>...</td>\n",
       "      <td>...</td>\n",
       "      <td>...</td>\n",
       "      <td>...</td>\n",
       "      <td>...</td>\n",
       "    </tr>\n",
       "    <tr>\n",
       "      <th>1014</th>\n",
       "      <td>30.0</td>\n",
       "      <td>15.00</td>\n",
       "      <td>3.0</td>\n",
       "      <td>3.660994</td>\n",
       "      <td>5.273000</td>\n",
       "      <td>Male</td>\n",
       "      <td>Vitamin D-25Hydroxy</td>\n",
       "      <td>Blood</td>\n",
       "      <td>Normal</td>\n",
       "      <td>Daily</td>\n",
       "      <td>High Traffic</td>\n",
       "      <td>N</td>\n",
       "    </tr>\n",
       "    <tr>\n",
       "      <th>1015</th>\n",
       "      <td>18.0</td>\n",
       "      <td>12.00</td>\n",
       "      <td>9.0</td>\n",
       "      <td>3.566712</td>\n",
       "      <td>5.176150</td>\n",
       "      <td>Female</td>\n",
       "      <td>Vitamin D-25Hydroxy</td>\n",
       "      <td>Blood</td>\n",
       "      <td>Normal</td>\n",
       "      <td>Daily</td>\n",
       "      <td>High Traffic</td>\n",
       "      <td>N</td>\n",
       "    </tr>\n",
       "    <tr>\n",
       "      <th>1016</th>\n",
       "      <td>18.0</td>\n",
       "      <td>16.00</td>\n",
       "      <td>11.0</td>\n",
       "      <td>4.012607</td>\n",
       "      <td>5.181784</td>\n",
       "      <td>Female</td>\n",
       "      <td>Vitamin D-25Hydroxy</td>\n",
       "      <td>Blood</td>\n",
       "      <td>Normal</td>\n",
       "      <td>Daily</td>\n",
       "      <td>Medium Traffic</td>\n",
       "      <td>N</td>\n",
       "    </tr>\n",
       "    <tr>\n",
       "      <th>1017</th>\n",
       "      <td>37.0</td>\n",
       "      <td>19.00</td>\n",
       "      <td>10.0</td>\n",
       "      <td>4.012607</td>\n",
       "      <td>5.153292</td>\n",
       "      <td>Male</td>\n",
       "      <td>Vitamin D-25Hydroxy</td>\n",
       "      <td>Blood</td>\n",
       "      <td>Normal</td>\n",
       "      <td>Daily</td>\n",
       "      <td>Medium Traffic</td>\n",
       "      <td>N</td>\n",
       "    </tr>\n",
       "    <tr>\n",
       "      <th>1018</th>\n",
       "      <td>50.0</td>\n",
       "      <td>20.00</td>\n",
       "      <td>16.0</td>\n",
       "      <td>3.481240</td>\n",
       "      <td>5.105945</td>\n",
       "      <td>Female</td>\n",
       "      <td>Vitamin D-25Hydroxy</td>\n",
       "      <td>Blood</td>\n",
       "      <td>Normal</td>\n",
       "      <td>Daily</td>\n",
       "      <td>High Traffic</td>\n",
       "      <td>N</td>\n",
       "    </tr>\n",
       "  </tbody>\n",
       "</table>\n",
       "<p>1019 rows × 12 columns</p>\n",
       "</div>"
      ],
      "text/plain": [
       "      Patient_Age  Cut-off time_HH_MM  Time_For_Sample_Collection_MM  \\\n",
       "0            34.0               17.00                           10.0   \n",
       "1            25.0               17.13                           10.0   \n",
       "2            29.0               19.10                            3.0   \n",
       "3            28.0               17.00                           10.0   \n",
       "4            32.0               13.15                            3.0   \n",
       "...           ...                 ...                            ...   \n",
       "1014         30.0               15.00                            3.0   \n",
       "1015         18.0               12.00                            9.0   \n",
       "1016         18.0               16.00                           11.0   \n",
       "1017         37.0               19.00                           10.0   \n",
       "1018         50.0               20.00                           16.0   \n",
       "\n",
       "      Lab_Location_KM  Time_Taken_To_Reach_Lab_MM Patient_Gender  \\\n",
       "0            2.564949                    3.258097           Male   \n",
       "1            1.791759                    2.484907           Male   \n",
       "2            1.098612                    2.197225         Female   \n",
       "3            1.609438                    2.302585           Male   \n",
       "4            2.197225                    3.988984           Male   \n",
       "...               ...                         ...            ...   \n",
       "1014         3.660994                    5.273000           Male   \n",
       "1015         3.566712                    5.176150         Female   \n",
       "1016         4.012607                    5.181784         Female   \n",
       "1017         4.012607                    5.153292           Male   \n",
       "1018         3.481240                    5.105945         Female   \n",
       "\n",
       "                 Test_Name Sample Way_Of_Storage_Of_Sample Cut-off Schedule  \\\n",
       "0     Acute kidney profile  Blood                 Advanced    Sample by 5pm   \n",
       "1                    HbA1c  Blood                   Normal            Daily   \n",
       "2      Vitamin D-25Hydroxy  Blood                   Normal            Daily   \n",
       "3                      TSH  Blood                   Normal            Daily   \n",
       "4            Lipid Profile  Blood                   Normal            Daily   \n",
       "...                    ...    ...                      ...              ...   \n",
       "1014   Vitamin D-25Hydroxy  Blood                   Normal            Daily   \n",
       "1015   Vitamin D-25Hydroxy  Blood                   Normal            Daily   \n",
       "1016   Vitamin D-25Hydroxy  Blood                   Normal            Daily   \n",
       "1017   Vitamin D-25Hydroxy  Blood                   Normal            Daily   \n",
       "1018   Vitamin D-25Hydroxy  Blood                   Normal            Daily   \n",
       "\n",
       "     Traffic_Conditions Reached_On_Time  \n",
       "0           Low Traffic               Y  \n",
       "1           Low Traffic               Y  \n",
       "2        Medium Traffic               Y  \n",
       "3           Low Traffic               Y  \n",
       "4          High Traffic               Y  \n",
       "...                 ...             ...  \n",
       "1014       High Traffic               N  \n",
       "1015       High Traffic               N  \n",
       "1016     Medium Traffic               N  \n",
       "1017     Medium Traffic               N  \n",
       "1018       High Traffic               N  \n",
       "\n",
       "[1019 rows x 12 columns]"
      ]
     },
     "execution_count": 55,
     "metadata": {},
     "output_type": "execute_result"
    }
   ],
   "source": [
    "final"
   ]
  },
  {
   "cell_type": "code",
   "execution_count": 56,
   "id": "e6b05c27",
   "metadata": {},
   "outputs": [],
   "source": [
    "final.rename(columns = {'Cut-off time_HH_MM' : 'Cut_off_time_HH_MM',\n",
    "                       'Cut-off Schedule' : 'Cut_off_Schedule'}, inplace = True)"
   ]
  },
  {
   "cell_type": "markdown",
   "id": "24940d7f",
   "metadata": {},
   "source": [
    "#### **Applying oversampling technique "
   ]
  },
  {
   "cell_type": "code",
   "execution_count": 57,
   "id": "4400c9da",
   "metadata": {},
   "outputs": [],
   "source": [
    "from imblearn.over_sampling import SMOTENC"
   ]
  },
  {
   "cell_type": "code",
   "execution_count": 58,
   "id": "af34a610",
   "metadata": {},
   "outputs": [],
   "source": [
    "X = final.drop(['Reached_On_Time'], axis = 1)\n",
    "y = final[['Reached_On_Time']]"
   ]
  },
  {
   "cell_type": "code",
   "execution_count": 59,
   "id": "4e4e52e6",
   "metadata": {},
   "outputs": [],
   "source": [
    "smote_nc = SMOTENC(categorical_features=[5, 6, 7, 8, 9, 10], random_state=0)\n",
    "X_resampled, y_resampled = smote_nc.fit_resample(X, y)"
   ]
  },
  {
   "cell_type": "code",
   "execution_count": 60,
   "id": "7563bdbd",
   "metadata": {},
   "outputs": [
    {
     "name": "stdout",
     "output_type": "stream",
     "text": [
      "<class 'pandas.core.frame.DataFrame'>\n",
      "RangeIndex: 1646 entries, 0 to 1645\n",
      "Data columns (total 11 columns):\n",
      " #   Column                         Non-Null Count  Dtype  \n",
      "---  ------                         --------------  -----  \n",
      " 0   Patient_Age                    1646 non-null   float64\n",
      " 1   Cut_off_time_HH_MM             1646 non-null   float64\n",
      " 2   Time_For_Sample_Collection_MM  1646 non-null   float64\n",
      " 3   Lab_Location_KM                1646 non-null   float64\n",
      " 4   Time_Taken_To_Reach_Lab_MM     1646 non-null   float64\n",
      " 5   Patient_Gender                 1646 non-null   object \n",
      " 6   Test_Name                      1646 non-null   object \n",
      " 7   Sample                         1646 non-null   object \n",
      " 8   Way_Of_Storage_Of_Sample       1646 non-null   object \n",
      " 9   Cut_off_Schedule               1646 non-null   object \n",
      " 10  Traffic_Conditions             1646 non-null   object \n",
      "dtypes: float64(5), object(6)\n",
      "memory usage: 141.6+ KB\n"
     ]
    }
   ],
   "source": [
    "X_resampled.info()"
   ]
  },
  {
   "cell_type": "code",
   "execution_count": 61,
   "id": "07c6cbde",
   "metadata": {},
   "outputs": [
    {
     "data": {
      "text/plain": [
       "(array([0, 1]), [Text(0, 0, '(N,)'), Text(1, 0, '(Y,)')])"
      ]
     },
     "execution_count": 61,
     "metadata": {},
     "output_type": "execute_result"
    },
    {
     "data": {
      "image/png": "[encoded data removed]",
      "text/plain": [
       "<Figure size 720x432 with 1 Axes>"
      ]
     },
     "metadata": {
      "needs_background": "light"
     },
     "output_type": "display_data"
    }
   ],
   "source": [
    "plt.figure(figsize=(10, 6))\n",
    "y_resampled.value_counts().plot(kind = 'bar')\n",
    "plt.xticks(rotation = 0)"
   ]
  },
  {
   "cell_type": "code",
   "execution_count": null,
   "id": "d427d7dd",
   "metadata": {},
   "outputs": [],
   "source": []
  },
  {
   "cell_type": "markdown",
   "id": "8362cca5",
   "metadata": {},
   "source": [
    "### ***Importing Modules for ML"
   ]
  },
  {
   "cell_type": "code",
   "execution_count": 62,
   "id": "ecb8f3c3",
   "metadata": {},
   "outputs": [],
   "source": [
    "from sklearn.model_selection import train_test_split\n",
    "from sklearn.pipeline import Pipeline\n",
    "from sklearn.preprocessing import OneHotEncoder\n",
    "from sklearn.compose import ColumnTransformer\n",
    "from sklearn.metrics import confusion_matrix, accuracy_score, classification_report\n",
    "\n",
    "from sklearn.naive_bayes import GaussianNB\n",
    "from sklearn.neighbors import KNeighborsClassifier\n",
    "from sklearn.tree import DecisionTreeClassifier\n",
    "from sklearn.ensemble import AdaBoostClassifier, BaggingClassifier, GradientBoostingClassifier, RandomForestClassifier, ExtraTreesClassifier\n",
    "from xgboost import XGBClassifier\n",
    "from sklearn.svm import SVC"
   ]
  },
  {
   "cell_type": "code",
   "execution_count": 63,
   "id": "d30f15a1",
   "metadata": {},
   "outputs": [],
   "source": [
    "#### **Train Test Split"
   ]
  },
  {
   "cell_type": "code",
   "execution_count": 89,
   "id": "30e0dcb8",
   "metadata": {},
   "outputs": [],
   "source": [
    "xtrain, xtest, ytrain, ytest = train_test_split(X_resampled, y_resampled, test_size=0.3)"
   ]
  },
  {
   "cell_type": "code",
   "execution_count": 90,
   "id": "3f6ac3b1",
   "metadata": {},
   "outputs": [
    {
     "data": {
      "text/plain": [
       "((1152, 11), (494, 11))"
      ]
     },
     "execution_count": 90,
     "metadata": {},
     "output_type": "execute_result"
    }
   ],
   "source": [
    "xtrain.shape, xtest.shape"
   ]
  },
  {
   "cell_type": "code",
   "execution_count": 66,
   "id": "135a916d",
   "metadata": {},
   "outputs": [],
   "source": [
    "## Gaussian Model"
   ]
  },
  {
   "cell_type": "code",
   "execution_count": 67,
   "id": "8a077317",
   "metadata": {},
   "outputs": [
    {
     "name": "stdout",
     "output_type": "stream",
     "text": [
      "Accruacy score: 0.9150\n",
      "\n",
      " Confision Matrix: \n",
      " [[213  22]\n",
      " [ 20 239]] \n",
      "\n",
      "Classification Report: \n",
      "               precision    recall  f1-score   support\n",
      "\n",
      "           N       0.91      0.91      0.91       235\n",
      "           Y       0.92      0.92      0.92       259\n",
      "\n",
      "    accuracy                           0.91       494\n",
      "   macro avg       0.91      0.91      0.91       494\n",
      "weighted avg       0.91      0.91      0.91       494\n",
      "\n"
     ]
    }
   ],
   "source": [
    "step1 = ColumnTransformer(transformers=[\n",
    "    ('col_tnf',OneHotEncoder(sparse=False,drop='first'),[5, 6, 7, 8, 9, 10])\n",
    "],remainder='passthrough')\n",
    "\n",
    "step2 = GaussianNB()\n",
    "\n",
    "pipe = Pipeline([\n",
    "    ('step1',step1),\n",
    "    ('step2',step2)\n",
    "])\n",
    "\n",
    "pipe.fit(xtrain, ytrain)\n",
    "\n",
    "ypred = pipe.predict(xtest)\n",
    "\n",
    "print('Accruacy score: {:.4f}'.format(accuracy_score(ytest, ypred)))\n",
    "print('\\n Confision Matrix: \\n',(confusion_matrix(ytest, ypred)), '\\n')\n",
    "print('Classification Report: \\n', classification_report(ytest, ypred))"
   ]
  },
  {
   "cell_type": "code",
   "execution_count": 68,
   "id": "213f362d",
   "metadata": {},
   "outputs": [],
   "source": [
    "## KNN"
   ]
  },
  {
   "cell_type": "code",
   "execution_count": 69,
   "id": "7df6b3e9",
   "metadata": {},
   "outputs": [
    {
     "name": "stdout",
     "output_type": "stream",
     "text": [
      "Accruacy score: 0.9008\n",
      "\n",
      " Confision Matrix: \n",
      " [[219  16]\n",
      " [ 33 226]] \n",
      "\n",
      "Classification Report: \n",
      "               precision    recall  f1-score   support\n",
      "\n",
      "           N       0.87      0.93      0.90       235\n",
      "           Y       0.93      0.87      0.90       259\n",
      "\n",
      "    accuracy                           0.90       494\n",
      "   macro avg       0.90      0.90      0.90       494\n",
      "weighted avg       0.90      0.90      0.90       494\n",
      "\n"
     ]
    }
   ],
   "source": [
    "step1 = ColumnTransformer(transformers=[\n",
    "    ('col_tnf',OneHotEncoder(sparse=False,drop='first'),[5, 6, 7, 8, 9, 10])\n",
    "],remainder='passthrough')\n",
    "\n",
    "step2 = KNeighborsClassifier()\n",
    "\n",
    "pipe = Pipeline([\n",
    "    ('step1',step1),\n",
    "    ('step2',step2)\n",
    "])\n",
    "\n",
    "pipe.fit(xtrain, ytrain)\n",
    "\n",
    "ypred = pipe.predict(xtest)\n",
    "\n",
    "print('Accruacy score: {:.4f}'.format(accuracy_score(ytest, ypred)))\n",
    "print('\\n Confision Matrix: \\n',(confusion_matrix(ytest, ypred)), '\\n')\n",
    "print('Classification Report: \\n', classification_report(ytest, ypred))"
   ]
  },
  {
   "cell_type": "code",
   "execution_count": 70,
   "id": "f73df9ff",
   "metadata": {},
   "outputs": [],
   "source": [
    "## Decision Tree"
   ]
  },
  {
   "cell_type": "code",
   "execution_count": 71,
   "id": "66e82bae",
   "metadata": {},
   "outputs": [
    {
     "name": "stdout",
     "output_type": "stream",
     "text": [
      "Accruacy score: 0.9717\n",
      "\n",
      " Confision Matrix: \n",
      " [[227   8]\n",
      " [  6 253]] \n",
      "\n",
      "Classification Report: \n",
      "               precision    recall  f1-score   support\n",
      "\n",
      "           N       0.97      0.97      0.97       235\n",
      "           Y       0.97      0.98      0.97       259\n",
      "\n",
      "    accuracy                           0.97       494\n",
      "   macro avg       0.97      0.97      0.97       494\n",
      "weighted avg       0.97      0.97      0.97       494\n",
      "\n"
     ]
    }
   ],
   "source": [
    "step1 = ColumnTransformer(transformers=[\n",
    "    ('col_tnf',OneHotEncoder(sparse=False,drop='first'),[5, 6, 7, 8, 9, 10])\n",
    "],remainder='passthrough')\n",
    "\n",
    "step2 = DecisionTreeClassifier()\n",
    "\n",
    "pipe = Pipeline([\n",
    "    ('step1',step1),\n",
    "    ('step2',step2)\n",
    "])\n",
    "\n",
    "pipe.fit(xtrain, ytrain)\n",
    "\n",
    "ypred = pipe.predict(xtest)\n",
    "\n",
    "print('Accruacy score: {:.4f}'.format(accuracy_score(ytest, ypred)))\n",
    "print('\\n Confision Matrix: \\n',(confusion_matrix(ytest, ypred)), '\\n')\n",
    "print('Classification Report: \\n', classification_report(ytest, ypred))"
   ]
  },
  {
   "cell_type": "code",
   "execution_count": 72,
   "id": "e9e0eaa1",
   "metadata": {},
   "outputs": [],
   "source": [
    "## AdaBoost"
   ]
  },
  {
   "cell_type": "code",
   "execution_count": 73,
   "id": "0fe35572",
   "metadata": {},
   "outputs": [
    {
     "name": "stdout",
     "output_type": "stream",
     "text": [
      "Accruacy score: 0.9636\n",
      "\n",
      " Confision Matrix: \n",
      " [[227   8]\n",
      " [ 10 249]] \n",
      "\n",
      "Classification Report: \n",
      "               precision    recall  f1-score   support\n",
      "\n",
      "           N       0.96      0.97      0.96       235\n",
      "           Y       0.97      0.96      0.97       259\n",
      "\n",
      "    accuracy                           0.96       494\n",
      "   macro avg       0.96      0.96      0.96       494\n",
      "weighted avg       0.96      0.96      0.96       494\n",
      "\n"
     ]
    }
   ],
   "source": [
    "step1 = ColumnTransformer(transformers=[\n",
    "    ('col_tnf',OneHotEncoder(sparse=False,drop='first'),[5, 6, 7, 8, 9, 10])\n",
    "],remainder='passthrough')\n",
    "\n",
    "step2 = AdaBoostClassifier()\n",
    "\n",
    "pipe = Pipeline([\n",
    "    ('step1',step1),\n",
    "    ('step2',step2)\n",
    "])\n",
    "\n",
    "pipe.fit(xtrain, ytrain)\n",
    "\n",
    "ypred = pipe.predict(xtest)\n",
    "\n",
    "print('Accruacy score: {:.4f}'.format(accuracy_score(ytest, ypred)))\n",
    "print('\\n Confision Matrix: \\n',(confusion_matrix(ytest, ypred)), '\\n')\n",
    "print('Classification Report: \\n', classification_report(ytest, ypred))"
   ]
  },
  {
   "cell_type": "code",
   "execution_count": 74,
   "id": "1ff70ca6",
   "metadata": {},
   "outputs": [],
   "source": [
    "## Gradient Boost"
   ]
  },
  {
   "cell_type": "code",
   "execution_count": 75,
   "id": "50a4f274",
   "metadata": {},
   "outputs": [
    {
     "name": "stdout",
     "output_type": "stream",
     "text": [
      "Accruacy score: 0.9656\n",
      "\n",
      " Confision Matrix: \n",
      " [[225  10]\n",
      " [  7 252]] \n",
      "\n",
      "Classification Report: \n",
      "               precision    recall  f1-score   support\n",
      "\n",
      "           N       0.97      0.96      0.96       235\n",
      "           Y       0.96      0.97      0.97       259\n",
      "\n",
      "    accuracy                           0.97       494\n",
      "   macro avg       0.97      0.97      0.97       494\n",
      "weighted avg       0.97      0.97      0.97       494\n",
      "\n"
     ]
    }
   ],
   "source": [
    "step1 = ColumnTransformer(transformers=[\n",
    "    ('col_tnf',OneHotEncoder(sparse=False,drop='first'),[5, 6, 7, 8, 9, 10])\n",
    "],remainder='passthrough')\n",
    "\n",
    "step2 = GradientBoostingClassifier()\n",
    "\n",
    "pipe = Pipeline([\n",
    "    ('step1',step1),\n",
    "    ('step2',step2)\n",
    "])\n",
    "\n",
    "pipe.fit(xtrain, ytrain)\n",
    "\n",
    "ypred = pipe.predict(xtest)\n",
    "\n",
    "print('Accruacy score: {:.4f}'.format(accuracy_score(ytest, ypred)))\n",
    "print('\\n Confision Matrix: \\n',(confusion_matrix(ytest, ypred)), '\\n')\n",
    "print('Classification Report: \\n', classification_report(ytest, ypred))"
   ]
  },
  {
   "cell_type": "code",
   "execution_count": 76,
   "id": "2505ec3b",
   "metadata": {},
   "outputs": [],
   "source": [
    "## Bagging "
   ]
  },
  {
   "cell_type": "code",
   "execution_count": 77,
   "id": "94261117",
   "metadata": {},
   "outputs": [
    {
     "name": "stdout",
     "output_type": "stream",
     "text": [
      "Accruacy score: 0.9696\n",
      "\n",
      " Confision Matrix: \n",
      " [[227   8]\n",
      " [  7 252]] \n",
      "\n",
      "Classification Report: \n",
      "               precision    recall  f1-score   support\n",
      "\n",
      "           N       0.97      0.97      0.97       235\n",
      "           Y       0.97      0.97      0.97       259\n",
      "\n",
      "    accuracy                           0.97       494\n",
      "   macro avg       0.97      0.97      0.97       494\n",
      "weighted avg       0.97      0.97      0.97       494\n",
      "\n"
     ]
    }
   ],
   "source": [
    "step1 = ColumnTransformer(transformers=[\n",
    "    ('col_tnf',OneHotEncoder(sparse=False,drop='first'),[5, 6, 7, 8, 9, 10])\n",
    "],remainder='passthrough')\n",
    "\n",
    "step2 = BaggingClassifier()\n",
    "\n",
    "pipe = Pipeline([\n",
    "    ('step1',step1),\n",
    "    ('step2',step2)\n",
    "])\n",
    "\n",
    "pipe.fit(xtrain, ytrain)\n",
    "\n",
    "ypred = pipe.predict(xtest)\n",
    "\n",
    "print('Accruacy score: {:.4f}'.format(accuracy_score(ytest, ypred)))\n",
    "print('\\n Confision Matrix: \\n',(confusion_matrix(ytest, ypred)), '\\n')\n",
    "print('Classification Report: \\n', classification_report(ytest, ypred))"
   ]
  },
  {
   "cell_type": "code",
   "execution_count": 78,
   "id": "a2fee984",
   "metadata": {},
   "outputs": [],
   "source": [
    "## Random Forest"
   ]
  },
  {
   "cell_type": "code",
   "execution_count": 79,
   "id": "1cc9324b",
   "metadata": {},
   "outputs": [
    {
     "name": "stdout",
     "output_type": "stream",
     "text": [
      "Accruacy score: 0.9717\n",
      "\n",
      " Confision Matrix: \n",
      " [[229   6]\n",
      " [  8 251]] \n",
      "\n",
      "Classification Report: \n",
      "               precision    recall  f1-score   support\n",
      "\n",
      "           N       0.97      0.97      0.97       235\n",
      "           Y       0.98      0.97      0.97       259\n",
      "\n",
      "    accuracy                           0.97       494\n",
      "   macro avg       0.97      0.97      0.97       494\n",
      "weighted avg       0.97      0.97      0.97       494\n",
      "\n"
     ]
    }
   ],
   "source": [
    "step1 = ColumnTransformer(transformers=[\n",
    "    ('col_tnf',OneHotEncoder(sparse=False,drop='first'),[5, 6, 7, 8, 9, 10])\n",
    "],remainder='passthrough')\n",
    "\n",
    "step2 = RandomForestClassifier()\n",
    "\n",
    "pipe = Pipeline([\n",
    "    ('step1',step1),\n",
    "    ('step2',step2)\n",
    "])\n",
    "\n",
    "pipe.fit(xtrain, ytrain)\n",
    "\n",
    "ypred = pipe.predict(xtest)\n",
    "\n",
    "print('Accruacy score: {:.4f}'.format(accuracy_score(ytest, ypred)))\n",
    "print('\\n Confision Matrix: \\n',(confusion_matrix(ytest, ypred)), '\\n')\n",
    "print('Classification Report: \\n', classification_report(ytest, ypred))"
   ]
  },
  {
   "cell_type": "code",
   "execution_count": 80,
   "id": "8e6557c9",
   "metadata": {},
   "outputs": [],
   "source": [
    "## Extra Trees"
   ]
  },
  {
   "cell_type": "code",
   "execution_count": 81,
   "id": "0c376a4f",
   "metadata": {},
   "outputs": [
    {
     "name": "stdout",
     "output_type": "stream",
     "text": [
      "Accruacy score: 0.9717\n",
      "\n",
      " Confision Matrix: \n",
      " [[231   4]\n",
      " [ 10 249]] \n",
      "\n",
      "Classification Report: \n",
      "               precision    recall  f1-score   support\n",
      "\n",
      "           N       0.96      0.98      0.97       235\n",
      "           Y       0.98      0.96      0.97       259\n",
      "\n",
      "    accuracy                           0.97       494\n",
      "   macro avg       0.97      0.97      0.97       494\n",
      "weighted avg       0.97      0.97      0.97       494\n",
      "\n"
     ]
    }
   ],
   "source": [
    "step1 = ColumnTransformer(transformers=[\n",
    "    ('col_tnf',OneHotEncoder(sparse=False,drop='first'),[5, 6, 7, 8, 9, 10])\n",
    "],remainder='passthrough')\n",
    "\n",
    "step2 = ExtraTreesClassifier()\n",
    "\n",
    "pipe = Pipeline([\n",
    "    ('step1',step1),\n",
    "    ('step2',step2)\n",
    "])\n",
    "\n",
    "pipe.fit(xtrain, ytrain)\n",
    "\n",
    "ypred = pipe.predict(xtest)\n",
    "\n",
    "print('Accruacy score: {:.4f}'.format(accuracy_score(ytest, ypred)))\n",
    "print('\\n Confision Matrix: \\n',(confusion_matrix(ytest, ypred)), '\\n')\n",
    "print('Classification Report: \\n', classification_report(ytest, ypred))"
   ]
  },
  {
   "cell_type": "code",
   "execution_count": 82,
   "id": "2f4bf8b3",
   "metadata": {},
   "outputs": [],
   "source": [
    "## XGB"
   ]
  },
  {
   "cell_type": "code",
   "execution_count": 93,
   "id": "62daba54",
   "metadata": {},
   "outputs": [
    {
     "name": "stdout",
     "output_type": "stream",
     "text": [
      "[11:19:22] WARNING: C:/Users/Administrator/workspace/xgboost-win64_release_1.5.1/src/learner.cc:1115: Starting in XGBoost 1.3.0, the default evaluation metric used with the objective 'binary:logistic' was changed from 'error' to 'logloss'. Explicitly set eval_metric if you'd like to restore the old behavior.\n",
      "Accruacy score: 0.9838\n",
      "\n",
      " Confision Matrix: \n",
      " [[235   4]\n",
      " [  4 251]] \n",
      "\n",
      "Classification Report: \n",
      "               precision    recall  f1-score   support\n",
      "\n",
      "           N       0.98      0.98      0.98       239\n",
      "           Y       0.98      0.98      0.98       255\n",
      "\n",
      "    accuracy                           0.98       494\n",
      "   macro avg       0.98      0.98      0.98       494\n",
      "weighted avg       0.98      0.98      0.98       494\n",
      "\n"
     ]
    }
   ],
   "source": [
    "step1 = ColumnTransformer(transformers=[\n",
    "    ('col_tnf',OneHotEncoder(sparse=False,drop='first'),[5, 6, 7, 8, 9, 10])\n",
    "],remainder='passthrough')\n",
    "\n",
    "step2 = XGBClassifier()\n",
    "\n",
    "pipe = Pipeline([\n",
    "    ('step1',step1),\n",
    "    ('step2',step2)\n",
    "])\n",
    "\n",
    "pipe.fit(xtrain, ytrain)\n",
    "\n",
    "ypred = pipe.predict(xtest)\n",
    "\n",
    "print('Accruacy score: {:.4f}'.format(accuracy_score(ytest, ypred)))\n",
    "print('\\n Confision Matrix: \\n',(confusion_matrix(ytest, ypred)), '\\n')\n",
    "print('Classification Report: \\n', classification_report(ytest, ypred))"
   ]
  },
  {
   "cell_type": "code",
   "execution_count": null,
   "id": "03af1156",
   "metadata": {},
   "outputs": [],
   "source": [
    " "
   ]
  },
  {
   "cell_type": "code",
   "execution_count": 97,
   "id": "5cd83c54",
   "metadata": {},
   "outputs": [
    {
     "name": "stdout",
     "output_type": "stream",
     "text": [
      "Accruacy score: 0.9737\n",
      "\n",
      " Confision Matrix: \n",
      " [[231   8]\n",
      " [  5 250]] \n",
      "\n",
      "Classification Report: \n",
      "               precision    recall  f1-score   support\n",
      "\n",
      "           N       0.98      0.97      0.97       239\n",
      "           Y       0.97      0.98      0.97       255\n",
      "\n",
      "    accuracy                           0.97       494\n",
      "   macro avg       0.97      0.97      0.97       494\n",
      "weighted avg       0.97      0.97      0.97       494\n",
      "\n"
     ]
    }
   ],
   "source": [
    "step1 = ColumnTransformer(transformers=[\n",
    "    ('col_tnf',OneHotEncoder(sparse=False,drop='first'),[5, 6, 7, 8, 9, 10])\n",
    "],remainder='passthrough')\n",
    "\n",
    "step2 = RandomForestClassifier(n_estimators=230,\n",
    "                               criterion='entropy',\n",
    "                               max_depth=7,\n",
    "                               bootstrap=True,\n",
    "                               max_features=0.2,\n",
    "                               random_state=40\n",
    "                              )\n",
    "\n",
    "pipe = Pipeline([\n",
    "    ('step1',step1),\n",
    "    ('step2',step2)\n",
    "])\n",
    "\n",
    "pipe.fit(xtrain, ytrain)\n",
    "\n",
    "ypred = pipe.predict(xtest)\n",
    "\n",
    "print('Accruacy score: {:.4f}'.format(accuracy_score(ytest, ypred)))\n",
    "print('\\n Confision Matrix: \\n',(confusion_matrix(ytest, ypred)), '\\n')\n",
    "print('Classification Report: \\n', classification_report(ytest, ypred))"
   ]
  },
  {
   "cell_type": "code",
   "execution_count": 94,
   "id": "d6b0460d",
   "metadata": {},
   "outputs": [],
   "source": [
    "import pickle"
   ]
  },
  {
   "cell_type": "code",
   "execution_count": 95,
   "id": "2fb927ca",
   "metadata": {},
   "outputs": [],
   "source": [
    "final_df = pd.concat([X_resampled, y_resampled], axis = 1)"
   ]
  },
  {
   "cell_type": "raw",
   "id": "a4121aba",
   "metadata": {},
   "source": [
    "pickle.dump(pipe, open('xgb.pkl', 'wb'))\n",
    "pickle.dump(final_df, open('final.pkl', 'wb'))"
   ]
  },
  {
   "cell_type": "raw",
   "id": "5bef212a",
   "metadata": {},
   "source": [
    "pickle.dump(pipe, open('rfd.pkl', 'wb'))"
   ]
  },
  {
   "cell_type": "code",
   "execution_count": 100,
   "id": "e758f523",
   "metadata": {},
   "outputs": [
    {
     "data": {
      "text/html": [
       "<div>\n",
       "<style scoped>\n",
       "    .dataframe tbody tr th:only-of-type {\n",
       "        vertical-align: middle;\n",
       "    }\n",
       "\n",
       "    .dataframe tbody tr th {\n",
       "        vertical-align: top;\n",
       "    }\n",
       "\n",
       "    .dataframe thead th {\n",
       "        text-align: right;\n",
       "    }\n",
       "</style>\n",
       "<table border=\"1\" class=\"dataframe\">\n",
       "  <thead>\n",
       "    <tr style=\"text-align: right;\">\n",
       "      <th></th>\n",
       "      <th>Patient_Age</th>\n",
       "      <th>Cut_off_time_HH_MM</th>\n",
       "      <th>Time_For_Sample_Collection_MM</th>\n",
       "      <th>Lab_Location_KM</th>\n",
       "      <th>Time_Taken_To_Reach_Lab_MM</th>\n",
       "      <th>Patient_Gender</th>\n",
       "      <th>Test_Name</th>\n",
       "      <th>Sample</th>\n",
       "      <th>Way_Of_Storage_Of_Sample</th>\n",
       "      <th>Cut_off_Schedule</th>\n",
       "      <th>Traffic_Conditions</th>\n",
       "      <th>Reached_On_Time</th>\n",
       "    </tr>\n",
       "  </thead>\n",
       "  <tbody>\n",
       "    <tr>\n",
       "      <th>0</th>\n",
       "      <td>34.0</td>\n",
       "      <td>17.00</td>\n",
       "      <td>10.0</td>\n",
       "      <td>2.564949</td>\n",
       "      <td>3.258097</td>\n",
       "      <td>Male</td>\n",
       "      <td>Acute kidney profile</td>\n",
       "      <td>Blood</td>\n",
       "      <td>Advanced</td>\n",
       "      <td>Sample by 5pm</td>\n",
       "      <td>Low Traffic</td>\n",
       "      <td>Y</td>\n",
       "    </tr>\n",
       "    <tr>\n",
       "      <th>1</th>\n",
       "      <td>25.0</td>\n",
       "      <td>17.13</td>\n",
       "      <td>10.0</td>\n",
       "      <td>1.791759</td>\n",
       "      <td>2.484907</td>\n",
       "      <td>Male</td>\n",
       "      <td>HbA1c</td>\n",
       "      <td>Blood</td>\n",
       "      <td>Normal</td>\n",
       "      <td>Daily</td>\n",
       "      <td>Low Traffic</td>\n",
       "      <td>Y</td>\n",
       "    </tr>\n",
       "    <tr>\n",
       "      <th>2</th>\n",
       "      <td>29.0</td>\n",
       "      <td>19.10</td>\n",
       "      <td>3.0</td>\n",
       "      <td>1.098612</td>\n",
       "      <td>2.197225</td>\n",
       "      <td>Female</td>\n",
       "      <td>Vitamin D-25Hydroxy</td>\n",
       "      <td>Blood</td>\n",
       "      <td>Normal</td>\n",
       "      <td>Daily</td>\n",
       "      <td>Medium Traffic</td>\n",
       "      <td>Y</td>\n",
       "    </tr>\n",
       "    <tr>\n",
       "      <th>3</th>\n",
       "      <td>28.0</td>\n",
       "      <td>17.00</td>\n",
       "      <td>10.0</td>\n",
       "      <td>1.609438</td>\n",
       "      <td>2.302585</td>\n",
       "      <td>Male</td>\n",
       "      <td>TSH</td>\n",
       "      <td>Blood</td>\n",
       "      <td>Normal</td>\n",
       "      <td>Daily</td>\n",
       "      <td>Low Traffic</td>\n",
       "      <td>Y</td>\n",
       "    </tr>\n",
       "    <tr>\n",
       "      <th>4</th>\n",
       "      <td>32.0</td>\n",
       "      <td>13.15</td>\n",
       "      <td>3.0</td>\n",
       "      <td>2.197225</td>\n",
       "      <td>3.988984</td>\n",
       "      <td>Male</td>\n",
       "      <td>Lipid Profile</td>\n",
       "      <td>Blood</td>\n",
       "      <td>Normal</td>\n",
       "      <td>Daily</td>\n",
       "      <td>High Traffic</td>\n",
       "      <td>Y</td>\n",
       "    </tr>\n",
       "    <tr>\n",
       "      <th>...</th>\n",
       "      <td>...</td>\n",
       "      <td>...</td>\n",
       "      <td>...</td>\n",
       "      <td>...</td>\n",
       "      <td>...</td>\n",
       "      <td>...</td>\n",
       "      <td>...</td>\n",
       "      <td>...</td>\n",
       "      <td>...</td>\n",
       "      <td>...</td>\n",
       "      <td>...</td>\n",
       "      <td>...</td>\n",
       "    </tr>\n",
       "    <tr>\n",
       "      <th>1014</th>\n",
       "      <td>30.0</td>\n",
       "      <td>15.00</td>\n",
       "      <td>3.0</td>\n",
       "      <td>3.660994</td>\n",
       "      <td>5.273000</td>\n",
       "      <td>Male</td>\n",
       "      <td>Vitamin D-25Hydroxy</td>\n",
       "      <td>Blood</td>\n",
       "      <td>Normal</td>\n",
       "      <td>Daily</td>\n",
       "      <td>High Traffic</td>\n",
       "      <td>N</td>\n",
       "    </tr>\n",
       "    <tr>\n",
       "      <th>1015</th>\n",
       "      <td>18.0</td>\n",
       "      <td>12.00</td>\n",
       "      <td>9.0</td>\n",
       "      <td>3.566712</td>\n",
       "      <td>5.176150</td>\n",
       "      <td>Female</td>\n",
       "      <td>Vitamin D-25Hydroxy</td>\n",
       "      <td>Blood</td>\n",
       "      <td>Normal</td>\n",
       "      <td>Daily</td>\n",
       "      <td>High Traffic</td>\n",
       "      <td>N</td>\n",
       "    </tr>\n",
       "    <tr>\n",
       "      <th>1016</th>\n",
       "      <td>18.0</td>\n",
       "      <td>16.00</td>\n",
       "      <td>11.0</td>\n",
       "      <td>4.012607</td>\n",
       "      <td>5.181784</td>\n",
       "      <td>Female</td>\n",
       "      <td>Vitamin D-25Hydroxy</td>\n",
       "      <td>Blood</td>\n",
       "      <td>Normal</td>\n",
       "      <td>Daily</td>\n",
       "      <td>Medium Traffic</td>\n",
       "      <td>N</td>\n",
       "    </tr>\n",
       "    <tr>\n",
       "      <th>1017</th>\n",
       "      <td>37.0</td>\n",
       "      <td>19.00</td>\n",
       "      <td>10.0</td>\n",
       "      <td>4.012607</td>\n",
       "      <td>5.153292</td>\n",
       "      <td>Male</td>\n",
       "      <td>Vitamin D-25Hydroxy</td>\n",
       "      <td>Blood</td>\n",
       "      <td>Normal</td>\n",
       "      <td>Daily</td>\n",
       "      <td>Medium Traffic</td>\n",
       "      <td>N</td>\n",
       "    </tr>\n",
       "    <tr>\n",
       "      <th>1018</th>\n",
       "      <td>50.0</td>\n",
       "      <td>20.00</td>\n",
       "      <td>16.0</td>\n",
       "      <td>3.481240</td>\n",
       "      <td>5.105945</td>\n",
       "      <td>Female</td>\n",
       "      <td>Vitamin D-25Hydroxy</td>\n",
       "      <td>Blood</td>\n",
       "      <td>Normal</td>\n",
       "      <td>Daily</td>\n",
       "      <td>High Traffic</td>\n",
       "      <td>N</td>\n",
       "    </tr>\n",
       "  </tbody>\n",
       "</table>\n",
       "<p>1019 rows × 12 columns</p>\n",
       "</div>"
      ],
      "text/plain": [
       "      Patient_Age  Cut_off_time_HH_MM  Time_For_Sample_Collection_MM  \\\n",
       "0            34.0               17.00                           10.0   \n",
       "1            25.0               17.13                           10.0   \n",
       "2            29.0               19.10                            3.0   \n",
       "3            28.0               17.00                           10.0   \n",
       "4            32.0               13.15                            3.0   \n",
       "...           ...                 ...                            ...   \n",
       "1014         30.0               15.00                            3.0   \n",
       "1015         18.0               12.00                            9.0   \n",
       "1016         18.0               16.00                           11.0   \n",
       "1017         37.0               19.00                           10.0   \n",
       "1018         50.0               20.00                           16.0   \n",
       "\n",
       "      Lab_Location_KM  Time_Taken_To_Reach_Lab_MM Patient_Gender  \\\n",
       "0            2.564949                    3.258097           Male   \n",
       "1            1.791759                    2.484907           Male   \n",
       "2            1.098612                    2.197225         Female   \n",
       "3            1.609438                    2.302585           Male   \n",
       "4            2.197225                    3.988984           Male   \n",
       "...               ...                         ...            ...   \n",
       "1014         3.660994                    5.273000           Male   \n",
       "1015         3.566712                    5.176150         Female   \n",
       "1016         4.012607                    5.181784         Female   \n",
       "1017         4.012607                    5.153292           Male   \n",
       "1018         3.481240                    5.105945         Female   \n",
       "\n",
       "                 Test_Name Sample Way_Of_Storage_Of_Sample Cut_off_Schedule  \\\n",
       "0     Acute kidney profile  Blood                 Advanced    Sample by 5pm   \n",
       "1                    HbA1c  Blood                   Normal            Daily   \n",
       "2      Vitamin D-25Hydroxy  Blood                   Normal            Daily   \n",
       "3                      TSH  Blood                   Normal            Daily   \n",
       "4            Lipid Profile  Blood                   Normal            Daily   \n",
       "...                    ...    ...                      ...              ...   \n",
       "1014   Vitamin D-25Hydroxy  Blood                   Normal            Daily   \n",
       "1015   Vitamin D-25Hydroxy  Blood                   Normal            Daily   \n",
       "1016   Vitamin D-25Hydroxy  Blood                   Normal            Daily   \n",
       "1017   Vitamin D-25Hydroxy  Blood                   Normal            Daily   \n",
       "1018   Vitamin D-25Hydroxy  Blood                   Normal            Daily   \n",
       "\n",
       "     Traffic_Conditions Reached_On_Time  \n",
       "0           Low Traffic               Y  \n",
       "1           Low Traffic               Y  \n",
       "2        Medium Traffic               Y  \n",
       "3           Low Traffic               Y  \n",
       "4          High Traffic               Y  \n",
       "...                 ...             ...  \n",
       "1014       High Traffic               N  \n",
       "1015       High Traffic               N  \n",
       "1016     Medium Traffic               N  \n",
       "1017     Medium Traffic               N  \n",
       "1018       High Traffic               N  \n",
       "\n",
       "[1019 rows x 12 columns]"
      ]
     },
     "execution_count": 100,
     "metadata": {},
     "output_type": "execute_result"
    }
   ],
   "source": [
    "final"
   ]
  },
  {
   "cell_type": "code",
   "execution_count": 101,
   "id": "e51caaab",
   "metadata": {},
   "outputs": [
    {
     "data": {
      "text/html": [
       "<div>\n",
       "<style scoped>\n",
       "    .dataframe tbody tr th:only-of-type {\n",
       "        vertical-align: middle;\n",
       "    }\n",
       "\n",
       "    .dataframe tbody tr th {\n",
       "        vertical-align: top;\n",
       "    }\n",
       "\n",
       "    .dataframe thead th {\n",
       "        text-align: right;\n",
       "    }\n",
       "</style>\n",
       "<table border=\"1\" class=\"dataframe\">\n",
       "  <thead>\n",
       "    <tr style=\"text-align: right;\">\n",
       "      <th></th>\n",
       "      <th>Patient_ID</th>\n",
       "      <th>Patient_Age</th>\n",
       "      <th>Patient_Gender</th>\n",
       "      <th>Test_Name</th>\n",
       "      <th>Sample</th>\n",
       "      <th>Way_Of_Storage_Of_Sample</th>\n",
       "      <th>Test_Booking_Date</th>\n",
       "      <th>Test_Booking_Time_HH_MM</th>\n",
       "      <th>Sample_Collection_Date</th>\n",
       "      <th>Scheduled_Sample_Collection_Time_HH_MM</th>\n",
       "      <th>...</th>\n",
       "      <th>Cut-off time_HH_MM</th>\n",
       "      <th>Agent_ID</th>\n",
       "      <th>Traffic_Conditions</th>\n",
       "      <th>Agent_Location_KM</th>\n",
       "      <th>Time_Taken_To_Reach_Patient_MM</th>\n",
       "      <th>Time_For_Sample_Collection_MM</th>\n",
       "      <th>Lab_Location_KM</th>\n",
       "      <th>Time_Taken_To_Reach_Lab_MM</th>\n",
       "      <th>Mode_Of_Transport</th>\n",
       "      <th>Reached_On_Time</th>\n",
       "    </tr>\n",
       "  </thead>\n",
       "  <tbody>\n",
       "    <tr>\n",
       "      <th>0</th>\n",
       "      <td>1</td>\n",
       "      <td>34</td>\n",
       "      <td>Male</td>\n",
       "      <td>Acute kidney profile</td>\n",
       "      <td>Blood</td>\n",
       "      <td>Advanced</td>\n",
       "      <td>2022-02-15</td>\n",
       "      <td>12.40</td>\n",
       "      <td>2022-02-16</td>\n",
       "      <td>13.00</td>\n",
       "      <td>...</td>\n",
       "      <td>17.00</td>\n",
       "      <td>5</td>\n",
       "      <td>Low Traffic</td>\n",
       "      <td>7.0</td>\n",
       "      <td>14</td>\n",
       "      <td>10</td>\n",
       "      <td>13.0</td>\n",
       "      <td>26</td>\n",
       "      <td>BIKE</td>\n",
       "      <td>Y</td>\n",
       "    </tr>\n",
       "    <tr>\n",
       "      <th>1</th>\n",
       "      <td>3</td>\n",
       "      <td>25</td>\n",
       "      <td>Male</td>\n",
       "      <td>HbA1c</td>\n",
       "      <td>Blood</td>\n",
       "      <td>Normal</td>\n",
       "      <td>2022-02-17</td>\n",
       "      <td>11.12</td>\n",
       "      <td>2022-02-17</td>\n",
       "      <td>14.13</td>\n",
       "      <td>...</td>\n",
       "      <td>17.13</td>\n",
       "      <td>3</td>\n",
       "      <td>Low Traffic</td>\n",
       "      <td>12.0</td>\n",
       "      <td>24</td>\n",
       "      <td>10</td>\n",
       "      <td>6.0</td>\n",
       "      <td>12</td>\n",
       "      <td>BIKE</td>\n",
       "      <td>Y</td>\n",
       "    </tr>\n",
       "    <tr>\n",
       "      <th>2</th>\n",
       "      <td>4</td>\n",
       "      <td>29</td>\n",
       "      <td>Female</td>\n",
       "      <td>Vitamin D-25Hydroxy</td>\n",
       "      <td>Blood</td>\n",
       "      <td>Normal</td>\n",
       "      <td>2022-02-17</td>\n",
       "      <td>12.24</td>\n",
       "      <td>2022-02-17</td>\n",
       "      <td>16.10</td>\n",
       "      <td>...</td>\n",
       "      <td>19.10</td>\n",
       "      <td>4</td>\n",
       "      <td>Medium Traffic</td>\n",
       "      <td>2.0</td>\n",
       "      <td>6</td>\n",
       "      <td>3</td>\n",
       "      <td>3.0</td>\n",
       "      <td>9</td>\n",
       "      <td>BIKE</td>\n",
       "      <td>Y</td>\n",
       "    </tr>\n",
       "    <tr>\n",
       "      <th>3</th>\n",
       "      <td>5</td>\n",
       "      <td>28</td>\n",
       "      <td>Male</td>\n",
       "      <td>TSH</td>\n",
       "      <td>Blood</td>\n",
       "      <td>Normal</td>\n",
       "      <td>2022-02-17</td>\n",
       "      <td>13.38</td>\n",
       "      <td>2022-02-18</td>\n",
       "      <td>14.00</td>\n",
       "      <td>...</td>\n",
       "      <td>17.00</td>\n",
       "      <td>5</td>\n",
       "      <td>Low Traffic</td>\n",
       "      <td>5.0</td>\n",
       "      <td>10</td>\n",
       "      <td>10</td>\n",
       "      <td>5.0</td>\n",
       "      <td>10</td>\n",
       "      <td>BIKE</td>\n",
       "      <td>Y</td>\n",
       "    </tr>\n",
       "    <tr>\n",
       "      <th>4</th>\n",
       "      <td>6</td>\n",
       "      <td>32</td>\n",
       "      <td>Male</td>\n",
       "      <td>Lipid Profile</td>\n",
       "      <td>Blood</td>\n",
       "      <td>Normal</td>\n",
       "      <td>2022-02-17</td>\n",
       "      <td>16.10</td>\n",
       "      <td>2022-02-18</td>\n",
       "      <td>10.15</td>\n",
       "      <td>...</td>\n",
       "      <td>13.15</td>\n",
       "      <td>4</td>\n",
       "      <td>High Traffic</td>\n",
       "      <td>12.0</td>\n",
       "      <td>72</td>\n",
       "      <td>3</td>\n",
       "      <td>9.0</td>\n",
       "      <td>54</td>\n",
       "      <td>BIKE</td>\n",
       "      <td>Y</td>\n",
       "    </tr>\n",
       "    <tr>\n",
       "      <th>...</th>\n",
       "      <td>...</td>\n",
       "      <td>...</td>\n",
       "      <td>...</td>\n",
       "      <td>...</td>\n",
       "      <td>...</td>\n",
       "      <td>...</td>\n",
       "      <td>...</td>\n",
       "      <td>...</td>\n",
       "      <td>...</td>\n",
       "      <td>...</td>\n",
       "      <td>...</td>\n",
       "      <td>...</td>\n",
       "      <td>...</td>\n",
       "      <td>...</td>\n",
       "      <td>...</td>\n",
       "      <td>...</td>\n",
       "      <td>...</td>\n",
       "      <td>...</td>\n",
       "      <td>...</td>\n",
       "      <td>...</td>\n",
       "      <td>...</td>\n",
       "    </tr>\n",
       "    <tr>\n",
       "      <th>1014</th>\n",
       "      <td>747</td>\n",
       "      <td>30</td>\n",
       "      <td>Male</td>\n",
       "      <td>Vitamin D-25Hydroxy</td>\n",
       "      <td>Blood</td>\n",
       "      <td>Normal</td>\n",
       "      <td>2022-03-25</td>\n",
       "      <td>10.00</td>\n",
       "      <td>2022-03-26</td>\n",
       "      <td>12.00</td>\n",
       "      <td>...</td>\n",
       "      <td>15.00</td>\n",
       "      <td>3</td>\n",
       "      <td>High Traffic</td>\n",
       "      <td>9.0</td>\n",
       "      <td>36</td>\n",
       "      <td>3</td>\n",
       "      <td>38.9</td>\n",
       "      <td>195</td>\n",
       "      <td>BIKE</td>\n",
       "      <td>N</td>\n",
       "    </tr>\n",
       "    <tr>\n",
       "      <th>1015</th>\n",
       "      <td>795</td>\n",
       "      <td>18</td>\n",
       "      <td>Female</td>\n",
       "      <td>Vitamin D-25Hydroxy</td>\n",
       "      <td>Blood</td>\n",
       "      <td>Normal</td>\n",
       "      <td>2022-07-13</td>\n",
       "      <td>18.00</td>\n",
       "      <td>2022-07-14</td>\n",
       "      <td>9.00</td>\n",
       "      <td>...</td>\n",
       "      <td>12.00</td>\n",
       "      <td>43</td>\n",
       "      <td>High Traffic</td>\n",
       "      <td>5.0</td>\n",
       "      <td>20</td>\n",
       "      <td>9</td>\n",
       "      <td>35.4</td>\n",
       "      <td>177</td>\n",
       "      <td>BIKE</td>\n",
       "      <td>N</td>\n",
       "    </tr>\n",
       "    <tr>\n",
       "      <th>1016</th>\n",
       "      <td>894</td>\n",
       "      <td>18</td>\n",
       "      <td>Female</td>\n",
       "      <td>Vitamin D-25Hydroxy</td>\n",
       "      <td>Blood</td>\n",
       "      <td>Normal</td>\n",
       "      <td>2022-03-29</td>\n",
       "      <td>11.00</td>\n",
       "      <td>2022-03-29</td>\n",
       "      <td>13.00</td>\n",
       "      <td>...</td>\n",
       "      <td>16.00</td>\n",
       "      <td>7</td>\n",
       "      <td>Medium Traffic</td>\n",
       "      <td>3.0</td>\n",
       "      <td>7</td>\n",
       "      <td>11</td>\n",
       "      <td>59.7</td>\n",
       "      <td>178</td>\n",
       "      <td>BIKE</td>\n",
       "      <td>N</td>\n",
       "    </tr>\n",
       "    <tr>\n",
       "      <th>1017</th>\n",
       "      <td>906</td>\n",
       "      <td>37</td>\n",
       "      <td>Male</td>\n",
       "      <td>Vitamin D-25Hydroxy</td>\n",
       "      <td>Blood</td>\n",
       "      <td>Normal</td>\n",
       "      <td>2022-03-20</td>\n",
       "      <td>14.00</td>\n",
       "      <td>2022-03-20</td>\n",
       "      <td>16.00</td>\n",
       "      <td>...</td>\n",
       "      <td>19.00</td>\n",
       "      <td>9</td>\n",
       "      <td>Medium Traffic</td>\n",
       "      <td>5.0</td>\n",
       "      <td>12</td>\n",
       "      <td>10</td>\n",
       "      <td>63.0</td>\n",
       "      <td>173</td>\n",
       "      <td>BIKE</td>\n",
       "      <td>N</td>\n",
       "    </tr>\n",
       "    <tr>\n",
       "      <th>1018</th>\n",
       "      <td>959</td>\n",
       "      <td>50</td>\n",
       "      <td>Female</td>\n",
       "      <td>Vitamin D-25Hydroxy</td>\n",
       "      <td>Blood</td>\n",
       "      <td>Normal</td>\n",
       "      <td>2022-01-28</td>\n",
       "      <td>13.00</td>\n",
       "      <td>2022-01-31</td>\n",
       "      <td>17.00</td>\n",
       "      <td>...</td>\n",
       "      <td>20.00</td>\n",
       "      <td>7</td>\n",
       "      <td>High Traffic</td>\n",
       "      <td>9.0</td>\n",
       "      <td>36</td>\n",
       "      <td>16</td>\n",
       "      <td>32.5</td>\n",
       "      <td>165</td>\n",
       "      <td>BIKE</td>\n",
       "      <td>N</td>\n",
       "    </tr>\n",
       "  </tbody>\n",
       "</table>\n",
       "<p>1019 rows × 21 columns</p>\n",
       "</div>"
      ],
      "text/plain": [
       "      Patient_ID  Patient_Age Patient_Gender             Test_Name Sample  \\\n",
       "0              1           34           Male  Acute kidney profile  Blood   \n",
       "1              3           25           Male                 HbA1c  Blood   \n",
       "2              4           29         Female   Vitamin D-25Hydroxy  Blood   \n",
       "3              5           28           Male                   TSH  Blood   \n",
       "4              6           32           Male         Lipid Profile  Blood   \n",
       "...          ...          ...            ...                   ...    ...   \n",
       "1014         747           30           Male   Vitamin D-25Hydroxy  Blood   \n",
       "1015         795           18         Female   Vitamin D-25Hydroxy  Blood   \n",
       "1016         894           18         Female   Vitamin D-25Hydroxy  Blood   \n",
       "1017         906           37           Male   Vitamin D-25Hydroxy  Blood   \n",
       "1018         959           50         Female   Vitamin D-25Hydroxy  Blood   \n",
       "\n",
       "     Way_Of_Storage_Of_Sample Test_Booking_Date  Test_Booking_Time_HH_MM  \\\n",
       "0                    Advanced        2022-02-15                    12.40   \n",
       "1                      Normal        2022-02-17                    11.12   \n",
       "2                      Normal        2022-02-17                    12.24   \n",
       "3                      Normal        2022-02-17                    13.38   \n",
       "4                      Normal        2022-02-17                    16.10   \n",
       "...                       ...               ...                      ...   \n",
       "1014                   Normal        2022-03-25                    10.00   \n",
       "1015                   Normal        2022-07-13                    18.00   \n",
       "1016                   Normal        2022-03-29                    11.00   \n",
       "1017                   Normal        2022-03-20                    14.00   \n",
       "1018                   Normal        2022-01-28                    13.00   \n",
       "\n",
       "     Sample_Collection_Date  Scheduled_Sample_Collection_Time_HH_MM  ...  \\\n",
       "0                2022-02-16                                   13.00  ...   \n",
       "1                2022-02-17                                   14.13  ...   \n",
       "2                2022-02-17                                   16.10  ...   \n",
       "3                2022-02-18                                   14.00  ...   \n",
       "4                2022-02-18                                   10.15  ...   \n",
       "...                     ...                                     ...  ...   \n",
       "1014             2022-03-26                                   12.00  ...   \n",
       "1015             2022-07-14                                    9.00  ...   \n",
       "1016             2022-03-29                                   13.00  ...   \n",
       "1017             2022-03-20                                   16.00  ...   \n",
       "1018             2022-01-31                                   17.00  ...   \n",
       "\n",
       "     Cut-off time_HH_MM  Agent_ID  Traffic_Conditions Agent_Location_KM  \\\n",
       "0                 17.00         5         Low Traffic               7.0   \n",
       "1                 17.13         3         Low Traffic              12.0   \n",
       "2                 19.10         4      Medium Traffic               2.0   \n",
       "3                 17.00         5         Low Traffic               5.0   \n",
       "4                 13.15         4        High Traffic              12.0   \n",
       "...                 ...       ...                 ...               ...   \n",
       "1014              15.00         3        High Traffic               9.0   \n",
       "1015              12.00        43        High Traffic               5.0   \n",
       "1016              16.00         7      Medium Traffic               3.0   \n",
       "1017              19.00         9      Medium Traffic               5.0   \n",
       "1018              20.00         7        High Traffic               9.0   \n",
       "\n",
       "      Time_Taken_To_Reach_Patient_MM  Time_For_Sample_Collection_MM  \\\n",
       "0                                 14                             10   \n",
       "1                                 24                             10   \n",
       "2                                  6                              3   \n",
       "3                                 10                             10   \n",
       "4                                 72                              3   \n",
       "...                              ...                            ...   \n",
       "1014                              36                              3   \n",
       "1015                              20                              9   \n",
       "1016                               7                             11   \n",
       "1017                              12                             10   \n",
       "1018                              36                             16   \n",
       "\n",
       "      Lab_Location_KM  Time_Taken_To_Reach_Lab_MM  Mode_Of_Transport  \\\n",
       "0                13.0                          26               BIKE   \n",
       "1                 6.0                          12               BIKE   \n",
       "2                 3.0                           9               BIKE   \n",
       "3                 5.0                          10               BIKE   \n",
       "4                 9.0                          54               BIKE   \n",
       "...               ...                         ...                ...   \n",
       "1014             38.9                         195               BIKE   \n",
       "1015             35.4                         177               BIKE   \n",
       "1016             59.7                         178               BIKE   \n",
       "1017             63.0                         173               BIKE   \n",
       "1018             32.5                         165               BIKE   \n",
       "\n",
       "     Reached_On_Time  \n",
       "0                  Y  \n",
       "1                  Y  \n",
       "2                  Y  \n",
       "3                  Y  \n",
       "4                  Y  \n",
       "...              ...  \n",
       "1014               N  \n",
       "1015               N  \n",
       "1016               N  \n",
       "1017               N  \n",
       "1018               N  \n",
       "\n",
       "[1019 rows x 21 columns]"
      ]
     },
     "execution_count": 101,
     "metadata": {},
     "output_type": "execute_result"
    }
   ],
   "source": [
    "df"
   ]
  },
  {
   "cell_type": "code",
   "execution_count": null,
   "id": "debc8cea",
   "metadata": {},
   "outputs": [],
   "source": []
  }
 ],
 "metadata": {
  "kernelspec": {
   "display_name": "Python 3",
   "language": "python",
   "name": "python3"
  },
  "language_info": {
   "codemirror_mode": {
    "name": "ipython",
    "version": 3
   },
   "file_extension": ".py",
   "mimetype": "text/x-python",
   "name": "python",
   "nbconvert_exporter": "python",
   "pygments_lexer": "ipython3",
   "version": "3.8.8"
  }
 },
 "nbformat": 4,
 "nbformat_minor": 5
}
